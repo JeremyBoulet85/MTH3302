{
 "cells": [
  {
   "cell_type": "code",
   "execution_count": 12,
   "metadata": {},
   "outputs": [
    {
     "data": {
      "text/plain": [
       "normalizeData (generic function with 1 method)"
      ]
     },
     "execution_count": 12,
     "metadata": {},
     "output_type": "execute_result"
    }
   ],
   "source": [
    "using CSV, DataFrames, Statistics, Dates, Gadfly, GLM, Distributions, LinearAlgebra, ScikitLearn, Query\n",
    "include(\"Utils.jl\")"
   ]
  },
  {
   "cell_type": "markdown",
   "metadata": {},
   "source": [
    "## Collecte et nettoyage de donnees"
   ]
  },
  {
   "cell_type": "code",
   "execution_count": 37,
   "metadata": {},
   "outputs": [
    {
     "data": {
      "text/html": [
       "<table class=\"data-frame\"><thead><tr><th></th><th>NO_OUVRAGE</th><th>DATE</th><th>SURVERSE</th><th>RAISON</th></tr><tr><th></th><th>String</th><th>Date</th><th>Int64⍰</th><th>String⍰</th></tr></thead><tbody><p>5 rows × 4 columns</p><tr><th>1</th><td>0642-01D</td><td>2013-05-01</td><td>0</td><td>missing</td></tr><tr><th>2</th><td>0642-01D</td><td>2013-05-02</td><td>0</td><td>missing</td></tr><tr><th>3</th><td>0642-01D</td><td>2013-05-03</td><td>0</td><td>missing</td></tr><tr><th>4</th><td>0642-01D</td><td>2013-05-04</td><td>0</td><td>missing</td></tr><tr><th>5</th><td>0642-01D</td><td>2013-05-05</td><td>0</td><td>missing</td></tr></tbody></table>"
      ],
      "text/latex": [
       "\\begin{tabular}{r|cccc}\n",
       "\t& NO\\_OUVRAGE & DATE & SURVERSE & RAISON\\\\\n",
       "\t\\hline\n",
       "\t& String & Date & Int64⍰ & String⍰\\\\\n",
       "\t\\hline\n",
       "\t1 & 0642-01D & 2013-05-01 & 0 &  \\\\\n",
       "\t2 & 0642-01D & 2013-05-02 & 0 &  \\\\\n",
       "\t3 & 0642-01D & 2013-05-03 & 0 &  \\\\\n",
       "\t4 & 0642-01D & 2013-05-04 & 0 &  \\\\\n",
       "\t5 & 0642-01D & 2013-05-05 & 0 &  \\\\\n",
       "\\end{tabular}\n"
      ],
      "text/plain": [
       "5×4 DataFrame\n",
       "│ Row │ NO_OUVRAGE │ DATE       │ SURVERSE │ RAISON  │\n",
       "│     │ \u001b[90mString\u001b[39m     │ \u001b[90mDate\u001b[39m       │ \u001b[90mInt64⍰\u001b[39m   │ \u001b[90mString⍰\u001b[39m │\n",
       "├─────┼────────────┼────────────┼──────────┼─────────┤\n",
       "│ 1   │ 0642-01D   │ 2013-05-01 │ 0        │ \u001b[90mmissing\u001b[39m │\n",
       "│ 2   │ 0642-01D   │ 2013-05-02 │ 0        │ \u001b[90mmissing\u001b[39m │\n",
       "│ 3   │ 0642-01D   │ 2013-05-03 │ 0        │ \u001b[90mmissing\u001b[39m │\n",
       "│ 4   │ 0642-01D   │ 2013-05-04 │ 0        │ \u001b[90mmissing\u001b[39m │\n",
       "│ 5   │ 0642-01D   │ 2013-05-05 │ 0        │ \u001b[90mmissing\u001b[39m │"
      ]
     },
     "execution_count": 37,
     "metadata": {},
     "output_type": "execute_result"
    }
   ],
   "source": [
    "data_surverse = CSV.read(\"data/surverses.csv\",missingstring=\"-99999\")\n",
    "first(data_surverse,5)"
   ]
  },
  {
   "cell_type": "code",
   "execution_count": 38,
   "metadata": {},
   "outputs": [
    {
     "data": {
      "text/html": [
       "<table class=\"data-frame\"><thead><tr><th></th><th>NO_OUVRAGE</th><th>DATE</th><th>SURVERSE</th><th>RAISON</th></tr><tr><th></th><th>String</th><th>Date</th><th>Int64⍰</th><th>String⍰</th></tr></thead><tbody><p>5 rows × 4 columns</p><tr><th>1</th><td>0642-01D</td><td>2013-05-01</td><td>0</td><td>missing</td></tr><tr><th>2</th><td>0642-01D</td><td>2013-05-02</td><td>0</td><td>missing</td></tr><tr><th>3</th><td>0642-01D</td><td>2013-05-03</td><td>0</td><td>missing</td></tr><tr><th>4</th><td>0642-01D</td><td>2013-05-04</td><td>0</td><td>missing</td></tr><tr><th>5</th><td>0642-01D</td><td>2013-05-05</td><td>0</td><td>missing</td></tr></tbody></table>"
      ],
      "text/latex": [
       "\\begin{tabular}{r|cccc}\n",
       "\t& NO\\_OUVRAGE & DATE & SURVERSE & RAISON\\\\\n",
       "\t\\hline\n",
       "\t& String & Date & Int64⍰ & String⍰\\\\\n",
       "\t\\hline\n",
       "\t1 & 0642-01D & 2013-05-01 & 0 &  \\\\\n",
       "\t2 & 0642-01D & 2013-05-02 & 0 &  \\\\\n",
       "\t3 & 0642-01D & 2013-05-03 & 0 &  \\\\\n",
       "\t4 & 0642-01D & 2013-05-04 & 0 &  \\\\\n",
       "\t5 & 0642-01D & 2013-05-05 & 0 &  \\\\\n",
       "\\end{tabular}\n"
      ],
      "text/plain": [
       "5×4 DataFrame\n",
       "│ Row │ NO_OUVRAGE │ DATE       │ SURVERSE │ RAISON  │\n",
       "│     │ \u001b[90mString\u001b[39m     │ \u001b[90mDate\u001b[39m       │ \u001b[90mInt64⍰\u001b[39m   │ \u001b[90mString⍰\u001b[39m │\n",
       "├─────┼────────────┼────────────┼──────────┼─────────┤\n",
       "│ 1   │ 0642-01D   │ 2013-05-01 │ 0        │ \u001b[90mmissing\u001b[39m │\n",
       "│ 2   │ 0642-01D   │ 2013-05-02 │ 0        │ \u001b[90mmissing\u001b[39m │\n",
       "│ 3   │ 0642-01D   │ 2013-05-03 │ 0        │ \u001b[90mmissing\u001b[39m │\n",
       "│ 4   │ 0642-01D   │ 2013-05-04 │ 0        │ \u001b[90mmissing\u001b[39m │\n",
       "│ 5   │ 0642-01D   │ 2013-05-05 │ 0        │ \u001b[90mmissing\u001b[39m │"
      ]
     },
     "execution_count": 38,
     "metadata": {},
     "output_type": "execute_result"
    }
   ],
   "source": [
    "data_surverse = filter(row -> month(row.DATE) > 4, data_surverse) \n",
    "data_surverse = filter(row -> month(row.DATE) < 11, data_surverse) \n",
    "first(data_surverse,5)"
   ]
  },
  {
   "cell_type": "code",
   "execution_count": 39,
   "metadata": {},
   "outputs": [
    {
     "data": {
      "text/html": [
       "<table class=\"data-frame\"><thead><tr><th></th><th>NO_OUVRAGE</th><th>DATE</th><th>SURVERSE</th><th>RAISON</th></tr><tr><th></th><th>String</th><th>Date</th><th>Int64⍰</th><th>String</th></tr></thead><tbody><p>5 rows × 4 columns</p><tr><th>1</th><td>0642-01D</td><td>2013-05-01</td><td>0</td><td>Inconnue</td></tr><tr><th>2</th><td>0642-01D</td><td>2013-05-02</td><td>0</td><td>Inconnue</td></tr><tr><th>3</th><td>0642-01D</td><td>2013-05-03</td><td>0</td><td>Inconnue</td></tr><tr><th>4</th><td>0642-01D</td><td>2013-05-04</td><td>0</td><td>Inconnue</td></tr><tr><th>5</th><td>0642-01D</td><td>2013-05-05</td><td>0</td><td>Inconnue</td></tr></tbody></table>"
      ],
      "text/latex": [
       "\\begin{tabular}{r|cccc}\n",
       "\t& NO\\_OUVRAGE & DATE & SURVERSE & RAISON\\\\\n",
       "\t\\hline\n",
       "\t& String & Date & Int64⍰ & String\\\\\n",
       "\t\\hline\n",
       "\t1 & 0642-01D & 2013-05-01 & 0 & Inconnue \\\\\n",
       "\t2 & 0642-01D & 2013-05-02 & 0 & Inconnue \\\\\n",
       "\t3 & 0642-01D & 2013-05-03 & 0 & Inconnue \\\\\n",
       "\t4 & 0642-01D & 2013-05-04 & 0 & Inconnue \\\\\n",
       "\t5 & 0642-01D & 2013-05-05 & 0 & Inconnue \\\\\n",
       "\\end{tabular}\n"
      ],
      "text/plain": [
       "5×4 DataFrame\n",
       "│ Row │ NO_OUVRAGE │ DATE       │ SURVERSE │ RAISON   │\n",
       "│     │ \u001b[90mString\u001b[39m     │ \u001b[90mDate\u001b[39m       │ \u001b[90mInt64⍰\u001b[39m   │ \u001b[90mString\u001b[39m   │\n",
       "├─────┼────────────┼────────────┼──────────┼──────────┤\n",
       "│ 1   │ 0642-01D   │ 2013-05-01 │ 0        │ Inconnue │\n",
       "│ 2   │ 0642-01D   │ 2013-05-02 │ 0        │ Inconnue │\n",
       "│ 3   │ 0642-01D   │ 2013-05-03 │ 0        │ Inconnue │\n",
       "│ 4   │ 0642-01D   │ 2013-05-04 │ 0        │ Inconnue │\n",
       "│ 5   │ 0642-01D   │ 2013-05-05 │ 0        │ Inconnue │"
      ]
     },
     "execution_count": 39,
     "metadata": {},
     "output_type": "execute_result"
    }
   ],
   "source": [
    "raison = coalesce.(data_surverse[:,:RAISON],\"Inconnue\")\n",
    "data_surverse[!,:RAISON] = raison\n",
    "first(data_surverse,5)"
   ]
  },
  {
   "cell_type": "code",
   "execution_count": 40,
   "metadata": {},
   "outputs": [
    {
     "data": {
      "text/html": [
       "<table class=\"data-frame\"><thead><tr><th></th><th>NO_OUVRAGE</th><th>DATE</th><th>SURVERSE</th></tr><tr><th></th><th>String</th><th>Date</th><th>Int64⍰</th></tr></thead><tbody><p>5 rows × 3 columns</p><tr><th>1</th><td>0642-01D</td><td>2013-05-01</td><td>0</td></tr><tr><th>2</th><td>0642-01D</td><td>2013-05-02</td><td>0</td></tr><tr><th>3</th><td>0642-01D</td><td>2013-05-03</td><td>0</td></tr><tr><th>4</th><td>0642-01D</td><td>2013-05-04</td><td>0</td></tr><tr><th>5</th><td>0642-01D</td><td>2013-05-05</td><td>0</td></tr></tbody></table>"
      ],
      "text/latex": [
       "\\begin{tabular}{r|ccc}\n",
       "\t& NO\\_OUVRAGE & DATE & SURVERSE\\\\\n",
       "\t\\hline\n",
       "\t& String & Date & Int64⍰\\\\\n",
       "\t\\hline\n",
       "\t1 & 0642-01D & 2013-05-01 & 0 \\\\\n",
       "\t2 & 0642-01D & 2013-05-02 & 0 \\\\\n",
       "\t3 & 0642-01D & 2013-05-03 & 0 \\\\\n",
       "\t4 & 0642-01D & 2013-05-04 & 0 \\\\\n",
       "\t5 & 0642-01D & 2013-05-05 & 0 \\\\\n",
       "\\end{tabular}\n"
      ],
      "text/plain": [
       "5×3 DataFrame\n",
       "│ Row │ NO_OUVRAGE │ DATE       │ SURVERSE │\n",
       "│     │ \u001b[90mString\u001b[39m     │ \u001b[90mDate\u001b[39m       │ \u001b[90mInt64⍰\u001b[39m   │\n",
       "├─────┼────────────┼────────────┼──────────┤\n",
       "│ 1   │ 0642-01D   │ 2013-05-01 │ 0        │\n",
       "│ 2   │ 0642-01D   │ 2013-05-02 │ 0        │\n",
       "│ 3   │ 0642-01D   │ 2013-05-03 │ 0        │\n",
       "│ 4   │ 0642-01D   │ 2013-05-04 │ 0        │\n",
       "│ 5   │ 0642-01D   │ 2013-05-05 │ 0        │"
      ]
     },
     "execution_count": 40,
     "metadata": {},
     "output_type": "execute_result"
    }
   ],
   "source": [
    "data_surverse = filter(row -> row.RAISON ∈ [\"P\",\"Inconnue\",\"TS\"], data_surverse) \n",
    "select!(data_surverse, [:NO_OUVRAGE, :DATE, :SURVERSE])\n",
    "first(data_surverse,5)"
   ]
  },
  {
   "cell_type": "code",
   "execution_count": 41,
   "metadata": {},
   "outputs": [
    {
     "data": {
      "text/html": [
       "<table class=\"data-frame\"><thead><tr><th></th><th>NO_OUVRAGE</th><th>DATE</th><th>SURVERSE</th></tr><tr><th></th><th>String</th><th>Date</th><th>Int64</th></tr></thead><tbody><p>5 rows × 3 columns</p><tr><th>1</th><td>0642-01D</td><td>2013-05-01</td><td>0</td></tr><tr><th>2</th><td>0642-01D</td><td>2013-05-02</td><td>0</td></tr><tr><th>3</th><td>0642-01D</td><td>2013-05-03</td><td>0</td></tr><tr><th>4</th><td>0642-01D</td><td>2013-05-04</td><td>0</td></tr><tr><th>5</th><td>0642-01D</td><td>2013-05-05</td><td>0</td></tr></tbody></table>"
      ],
      "text/latex": [
       "\\begin{tabular}{r|ccc}\n",
       "\t& NO\\_OUVRAGE & DATE & SURVERSE\\\\\n",
       "\t\\hline\n",
       "\t& String & Date & Int64\\\\\n",
       "\t\\hline\n",
       "\t1 & 0642-01D & 2013-05-01 & 0 \\\\\n",
       "\t2 & 0642-01D & 2013-05-02 & 0 \\\\\n",
       "\t3 & 0642-01D & 2013-05-03 & 0 \\\\\n",
       "\t4 & 0642-01D & 2013-05-04 & 0 \\\\\n",
       "\t5 & 0642-01D & 2013-05-05 & 0 \\\\\n",
       "\\end{tabular}\n"
      ],
      "text/plain": [
       "5×3 DataFrame\n",
       "│ Row │ NO_OUVRAGE │ DATE       │ SURVERSE │\n",
       "│     │ \u001b[90mString\u001b[39m     │ \u001b[90mDate\u001b[39m       │ \u001b[90mInt64\u001b[39m    │\n",
       "├─────┼────────────┼────────────┼──────────┤\n",
       "│ 1   │ 0642-01D   │ 2013-05-01 │ 0        │\n",
       "│ 2   │ 0642-01D   │ 2013-05-02 │ 0        │\n",
       "│ 3   │ 0642-01D   │ 2013-05-03 │ 0        │\n",
       "│ 4   │ 0642-01D   │ 2013-05-04 │ 0        │\n",
       "│ 5   │ 0642-01D   │ 2013-05-05 │ 0        │"
      ]
     },
     "execution_count": 41,
     "metadata": {},
     "output_type": "execute_result"
    }
   ],
   "source": [
    "surverse_df = dropmissing(data_surverse, disallowmissing=true)\n",
    "first(surverse_df,5)"
   ]
  },
  {
   "cell_type": "code",
   "execution_count": 42,
   "metadata": {},
   "outputs": [
    {
     "data": {
      "text/html": [
       "<table class=\"data-frame\"><thead><tr><th></th><th>date</th><th>heure</th><th>McTavish</th><th>Bellevue</th><th>Assomption</th><th>Trudeau</th><th>StHubert</th></tr><tr><th></th><th>Date</th><th>Int64</th><th>Int64⍰</th><th>Int64⍰</th><th>Int64⍰</th><th>Int64⍰</th><th>Int64⍰</th></tr></thead><tbody><p>5 rows × 7 columns</p><tr><th>1</th><td>2013-01-01</td><td>0</td><td>0</td><td>0</td><td>0</td><td>0</td><td>missing</td></tr><tr><th>2</th><td>2013-01-01</td><td>1</td><td>0</td><td>0</td><td>0</td><td>0</td><td>missing</td></tr><tr><th>3</th><td>2013-01-01</td><td>2</td><td>0</td><td>0</td><td>0</td><td>0</td><td>missing</td></tr><tr><th>4</th><td>2013-01-01</td><td>3</td><td>0</td><td>0</td><td>0</td><td>0</td><td>missing</td></tr><tr><th>5</th><td>2013-01-01</td><td>4</td><td>0</td><td>0</td><td>0</td><td>0</td><td>missing</td></tr></tbody></table>"
      ],
      "text/latex": [
       "\\begin{tabular}{r|ccccccc}\n",
       "\t& date & heure & McTavish & Bellevue & Assomption & Trudeau & StHubert\\\\\n",
       "\t\\hline\n",
       "\t& Date & Int64 & Int64⍰ & Int64⍰ & Int64⍰ & Int64⍰ & Int64⍰\\\\\n",
       "\t\\hline\n",
       "\t1 & 2013-01-01 & 0 & 0 & 0 & 0 & 0 &  \\\\\n",
       "\t2 & 2013-01-01 & 1 & 0 & 0 & 0 & 0 &  \\\\\n",
       "\t3 & 2013-01-01 & 2 & 0 & 0 & 0 & 0 &  \\\\\n",
       "\t4 & 2013-01-01 & 3 & 0 & 0 & 0 & 0 &  \\\\\n",
       "\t5 & 2013-01-01 & 4 & 0 & 0 & 0 & 0 &  \\\\\n",
       "\\end{tabular}\n"
      ],
      "text/plain": [
       "5×7 DataFrame. Omitted printing of 1 columns\n",
       "│ Row │ date       │ heure │ McTavish │ Bellevue │ Assomption │ Trudeau │\n",
       "│     │ \u001b[90mDate\u001b[39m       │ \u001b[90mInt64\u001b[39m │ \u001b[90mInt64⍰\u001b[39m   │ \u001b[90mInt64⍰\u001b[39m   │ \u001b[90mInt64⍰\u001b[39m     │ \u001b[90mInt64⍰\u001b[39m  │\n",
       "├─────┼────────────┼───────┼──────────┼──────────┼────────────┼─────────┤\n",
       "│ 1   │ 2013-01-01 │ 0     │ 0        │ 0        │ 0          │ 0       │\n",
       "│ 2   │ 2013-01-01 │ 1     │ 0        │ 0        │ 0          │ 0       │\n",
       "│ 3   │ 2013-01-01 │ 2     │ 0        │ 0        │ 0          │ 0       │\n",
       "│ 4   │ 2013-01-01 │ 3     │ 0        │ 0        │ 0          │ 0       │\n",
       "│ 5   │ 2013-01-01 │ 4     │ 0        │ 0        │ 0          │ 0       │"
      ]
     },
     "execution_count": 42,
     "metadata": {},
     "output_type": "execute_result"
    }
   ],
   "source": [
    "data_precipitations = CSV.read(\"data/precipitations.csv\",missingstring=\"-99999\")\n",
    "rename!(data_precipitations, Symbol(\"St-Hubert\")=>:StHubert)\n",
    "first(data_precipitations,5)"
   ]
  },
  {
   "cell_type": "code",
   "execution_count": 43,
   "metadata": {},
   "outputs": [
    {
     "data": {
      "text/html": [
       "<table class=\"data-frame\"><thead><tr><th></th><th>date</th><th>heure</th><th>McTavish</th><th>Bellevue</th><th>Assomption</th><th>Trudeau</th><th>StHubert</th></tr><tr><th></th><th>Date</th><th>Int64</th><th>Int64⍰</th><th>Int64⍰</th><th>Int64⍰</th><th>Int64⍰</th><th>Int64⍰</th></tr></thead><tbody><p>5 rows × 7 columns</p><tr><th>1</th><td>2013-05-01</td><td>0</td><td>0</td><td>0</td><td>0</td><td>0</td><td>0</td></tr><tr><th>2</th><td>2013-05-01</td><td>1</td><td>0</td><td>0</td><td>0</td><td>0</td><td>0</td></tr><tr><th>3</th><td>2013-05-01</td><td>2</td><td>0</td><td>0</td><td>0</td><td>0</td><td>0</td></tr><tr><th>4</th><td>2013-05-01</td><td>3</td><td>0</td><td>0</td><td>0</td><td>0</td><td>0</td></tr><tr><th>5</th><td>2013-05-01</td><td>4</td><td>0</td><td>0</td><td>0</td><td>0</td><td>0</td></tr></tbody></table>"
      ],
      "text/latex": [
       "\\begin{tabular}{r|ccccccc}\n",
       "\t& date & heure & McTavish & Bellevue & Assomption & Trudeau & StHubert\\\\\n",
       "\t\\hline\n",
       "\t& Date & Int64 & Int64⍰ & Int64⍰ & Int64⍰ & Int64⍰ & Int64⍰\\\\\n",
       "\t\\hline\n",
       "\t1 & 2013-05-01 & 0 & 0 & 0 & 0 & 0 & 0 \\\\\n",
       "\t2 & 2013-05-01 & 1 & 0 & 0 & 0 & 0 & 0 \\\\\n",
       "\t3 & 2013-05-01 & 2 & 0 & 0 & 0 & 0 & 0 \\\\\n",
       "\t4 & 2013-05-01 & 3 & 0 & 0 & 0 & 0 & 0 \\\\\n",
       "\t5 & 2013-05-01 & 4 & 0 & 0 & 0 & 0 & 0 \\\\\n",
       "\\end{tabular}\n"
      ],
      "text/plain": [
       "5×7 DataFrame. Omitted printing of 1 columns\n",
       "│ Row │ date       │ heure │ McTavish │ Bellevue │ Assomption │ Trudeau │\n",
       "│     │ \u001b[90mDate\u001b[39m       │ \u001b[90mInt64\u001b[39m │ \u001b[90mInt64⍰\u001b[39m   │ \u001b[90mInt64⍰\u001b[39m   │ \u001b[90mInt64⍰\u001b[39m     │ \u001b[90mInt64⍰\u001b[39m  │\n",
       "├─────┼────────────┼───────┼──────────┼──────────┼────────────┼─────────┤\n",
       "│ 1   │ 2013-05-01 │ 0     │ 0        │ 0        │ 0          │ 0       │\n",
       "│ 2   │ 2013-05-01 │ 1     │ 0        │ 0        │ 0          │ 0       │\n",
       "│ 3   │ 2013-05-01 │ 2     │ 0        │ 0        │ 0          │ 0       │\n",
       "│ 4   │ 2013-05-01 │ 3     │ 0        │ 0        │ 0          │ 0       │\n",
       "│ 5   │ 2013-05-01 │ 4     │ 0        │ 0        │ 0          │ 0       │"
      ]
     },
     "execution_count": 43,
     "metadata": {},
     "output_type": "execute_result"
    }
   ],
   "source": [
    "data_precipitations = filter(row -> month(row.date) > 4, data_precipitations) \n",
    "data_precipitations = filter(row -> month(row.date) < 11, data_precipitations)\n",
    "rowMean(data_precipitations, 5, 2)\n",
    "first(data_precipitations,5)"
   ]
  },
  {
   "cell_type": "markdown",
   "metadata": {},
   "source": [
    "## Analyse exploratoire"
   ]
  },
  {
   "cell_type": "code",
   "execution_count": null,
   "metadata": {},
   "outputs": [],
   "source": []
  },
  {
   "cell_type": "code",
   "execution_count": null,
   "metadata": {},
   "outputs": [],
   "source": []
  },
  {
   "cell_type": "markdown",
   "metadata": {},
   "source": [
    "## Variable explicative 1 : Trop-Plein Z"
   ]
  },
  {
   "cell_type": "code",
   "execution_count": 44,
   "metadata": {},
   "outputs": [
    {
     "name": "stderr",
     "output_type": "stream",
     "text": [
      "┌ Warning: `getindex(df::DataFrame, col_ind::ColumnIndex)` is deprecated, use `df[!, col_ind]` instead.\n",
      "│   caller = top-level scope at In[44]:13\n",
      "└ @ Core In[44]:13\n",
      "┌ Warning: `getindex(df::DataFrame, col_ind::ColumnIndex)` is deprecated, use `df[!, col_ind]` instead.\n",
      "│   caller = top-level scope at In[44]:15\n",
      "└ @ Core In[44]:15\n"
     ]
    },
    {
     "data": {
      "text/html": [
       "<table class=\"data-frame\"><thead><tr><th></th><th>NO_OUVRAGE</th><th>Trop-Plein X</th><th>Trop-Plein Y</th><th>Trop-Plein Z</th></tr><tr><th></th><th>String</th><th>Float64</th><th>Float64</th><th>Float64⍰</th></tr></thead><tbody><p>5 rows × 4 columns</p><tr><th>1</th><td>3260-01D</td><td>2.98543e5</td><td>5.05676e6</td><td>20.17</td></tr><tr><th>2</th><td>3350-07D</td><td>2.89801e5</td><td>5.04516e6</td><td>20.75</td></tr><tr><th>3</th><td>4240-01D</td><td>3.05755e5</td><td>5.05665e6</td><td>11.91</td></tr><tr><th>4</th><td>4350-01D</td><td>3.00503e5</td><td>5.03991e6</td><td>17.61</td></tr><tr><th>5</th><td>4380-01D</td><td>2.9982e5</td><td>5.03643e6</td><td>17.61</td></tr></tbody></table>"
      ],
      "text/latex": [
       "\\begin{tabular}{r|cccc}\n",
       "\t& NO\\_OUVRAGE & Trop-Plein X & Trop-Plein Y & Trop-Plein Z\\\\\n",
       "\t\\hline\n",
       "\t& String & Float64 & Float64 & Float64⍰\\\\\n",
       "\t\\hline\n",
       "\t1 & 3260-01D & 2.98543e5 & 5.05676e6 & 20.17 \\\\\n",
       "\t2 & 3350-07D & 2.89801e5 & 5.04516e6 & 20.75 \\\\\n",
       "\t3 & 4240-01D & 3.05755e5 & 5.05665e6 & 11.91 \\\\\n",
       "\t4 & 4350-01D & 3.00503e5 & 5.03991e6 & 17.61 \\\\\n",
       "\t5 & 4380-01D & 2.9982e5 & 5.03643e6 & 17.61 \\\\\n",
       "\\end{tabular}\n"
      ],
      "text/plain": [
       "5×4 DataFrame\n",
       "│ Row │ NO_OUVRAGE │ Trop-Plein X │ Trop-Plein Y │ Trop-Plein Z │\n",
       "│     │ \u001b[90mString\u001b[39m     │ \u001b[90mFloat64\u001b[39m      │ \u001b[90mFloat64\u001b[39m      │ \u001b[90mFloat64⍰\u001b[39m     │\n",
       "├─────┼────────────┼──────────────┼──────────────┼──────────────┤\n",
       "│ 1   │ 3260-01D   │ 2.98543e5    │ 5.05676e6    │ 20.17        │\n",
       "│ 2   │ 3350-07D   │ 2.89801e5    │ 5.04516e6    │ 20.75        │\n",
       "│ 3   │ 4240-01D   │ 3.05755e5    │ 5.05665e6    │ 11.91        │\n",
       "│ 4   │ 4350-01D   │ 3.00503e5    │ 5.03991e6    │ 17.61        │\n",
       "│ 5   │ 4380-01D   │ 2.9982e5     │ 5.03643e6    │ 17.61        │"
      ]
     },
     "execution_count": 44,
     "metadata": {},
     "output_type": "execute_result"
    }
   ],
   "source": [
    "data_ouvrage = CSV.read(\"data/ouvrages-surverses.csv\",missingstring=\"\")\n",
    "\n",
    "# Extract speficic ouvrage\n",
    "df_ouvrage = filter(row ->\n",
    "    row.ID_ouvrage == \"3260-01D\" ||\n",
    "    row.ID_ouvrage == \"3350-07D\" ||\n",
    "    row.ID_ouvrage == \"4240-01D\" ||\n",
    "    row.ID_ouvrage == \"4350-01D\" ||\n",
    "    row.ID_ouvrage == \"4380-01D\", data_ouvrage)\n",
    "\n",
    "df_ouvrage = df_ouvrage[:,[:ID_ouvrage, Symbol(\"Trop-Plein Z\")]]\n",
    "rename!(df_ouvrage, Symbol(\"ID_ouvrage\")=>:NO_OUVRAGE)\n",
    "\n",
    "meanHeight = mean(skipmissing(df_ouvrage[Symbol(\"Trop-Plein Z\")]))\n",
    "\n",
    "# Replace missing height with it's mean\n",
    "df_ouvrage[ismissing.(df_ouvrage[Symbol(\"Trop-Plein Z\")]), Symbol(\"Trop-Plein Z\")] .= meanHeight\n",
    "\n",
    "df_ouvrage"
   ]
  },
  {
   "cell_type": "markdown",
   "metadata": {},
   "source": [
    "## Variable explicative 2 : Somme des précipitations par jour"
   ]
  },
  {
   "cell_type": "code",
   "execution_count": 45,
   "metadata": {},
   "outputs": [
    {
     "data": {
      "text/html": [
       "<table class=\"data-frame\"><thead><tr><th></th><th>date</th><th>McTavish</th><th>Bellevue</th><th>Assomption</th><th>Trudeau</th><th>StHubert</th></tr><tr><th></th><th>Date</th><th>Int64</th><th>Int64</th><th>Int64</th><th>Int64</th><th>Int64</th></tr></thead><tbody><p>5 rows × 6 columns</p><tr><th>1</th><td>2013-05-01</td><td>0</td><td>0</td><td>0</td><td>0</td><td>0</td></tr><tr><th>2</th><td>2013-05-02</td><td>0</td><td>0</td><td>0</td><td>0</td><td>0</td></tr><tr><th>3</th><td>2013-05-03</td><td>0</td><td>0</td><td>0</td><td>0</td><td>0</td></tr><tr><th>4</th><td>2013-05-04</td><td>0</td><td>0</td><td>0</td><td>0</td><td>0</td></tr><tr><th>5</th><td>2013-05-05</td><td>0</td><td>0</td><td>0</td><td>0</td><td>0</td></tr></tbody></table>"
      ],
      "text/latex": [
       "\\begin{tabular}{r|cccccc}\n",
       "\t& date & McTavish & Bellevue & Assomption & Trudeau & StHubert\\\\\n",
       "\t\\hline\n",
       "\t& Date & Int64 & Int64 & Int64 & Int64 & Int64\\\\\n",
       "\t\\hline\n",
       "\t1 & 2013-05-01 & 0 & 0 & 0 & 0 & 0 \\\\\n",
       "\t2 & 2013-05-02 & 0 & 0 & 0 & 0 & 0 \\\\\n",
       "\t3 & 2013-05-03 & 0 & 0 & 0 & 0 & 0 \\\\\n",
       "\t4 & 2013-05-04 & 0 & 0 & 0 & 0 & 0 \\\\\n",
       "\t5 & 2013-05-05 & 0 & 0 & 0 & 0 & 0 \\\\\n",
       "\\end{tabular}\n"
      ],
      "text/plain": [
       "5×6 DataFrame\n",
       "│ Row │ date       │ McTavish │ Bellevue │ Assomption │ Trudeau │ StHubert │\n",
       "│     │ \u001b[90mDate\u001b[39m       │ \u001b[90mInt64\u001b[39m    │ \u001b[90mInt64\u001b[39m    │ \u001b[90mInt64\u001b[39m      │ \u001b[90mInt64\u001b[39m   │ \u001b[90mInt64\u001b[39m    │\n",
       "├─────┼────────────┼──────────┼──────────┼────────────┼─────────┼──────────┤\n",
       "│ 1   │ 2013-05-01 │ 0        │ 0        │ 0          │ 0       │ 0        │\n",
       "│ 2   │ 2013-05-02 │ 0        │ 0        │ 0          │ 0       │ 0        │\n",
       "│ 3   │ 2013-05-03 │ 0        │ 0        │ 0          │ 0       │ 0        │\n",
       "│ 4   │ 2013-05-04 │ 0        │ 0        │ 0          │ 0       │ 0        │\n",
       "│ 5   │ 2013-05-05 │ 0        │ 0        │ 0          │ 0       │ 0        │"
      ]
     },
     "execution_count": 45,
     "metadata": {},
     "output_type": "execute_result"
    }
   ],
   "source": [
    "# Faire la somme des precipitations par rapport a la date\n",
    "pcp_sum = by(data_precipitations, :date,  McTavish = :McTavish=>sum, Bellevue = :Bellevue=>sum, \n",
    "           Assomption = :Assomption=>sum, Trudeau = :Trudeau=>sum, StHubert = :StHubert=>sum)\n",
    "\n",
    "# maxMcTavish = findmax(convert(Array, pcp_sum[:,[2]]))[1]\n",
    "# maxBellevue = findmax(convert(Array, pcp_sum[:,[3]]))[1]\n",
    "# maxAssomption = findmax(convert(Array, pcp_sum[:,[4]]))[1]\n",
    "# maxTrudeau = findmax(convert(Array, pcp_sum[:,[5]]))[1]\n",
    "# maxStHubert = findmax(convert(Array, pcp_sum[:,[6]]))[1]\n",
    "\n",
    "# pcp_sum[:McTavish] = [normalizeData(x, 0, maxMcTavish) for x in pcp_sum[:McTavish]]\n",
    "# pcp_sum[:Bellevue] = [normalizeData(x, 0, maxMcTavish) for x in pcp_sum[:Bellevue]]\n",
    "# pcp_sum[:Assomption] = [normalizeData(x, 0, maxMcTavish) for x in pcp_sum[:Assomption]]\n",
    "# pcp_sum[:Trudeau] = [normalizeData(x, 0, maxMcTavish) for x in pcp_sum[:Trudeau]]\n",
    "# pcp_sum[:StHubert] = [normalizeData(x, 0, maxMcTavish) for x in pcp_sum[:StHubert]]\n",
    "\n",
    "first(pcp_sum,5)\n"
   ]
  },
  {
   "cell_type": "markdown",
   "metadata": {},
   "source": [
    "## Variable explicative 3 : Maximum horaire de précipitation par jour"
   ]
  },
  {
   "cell_type": "code",
   "execution_count": 46,
   "metadata": {},
   "outputs": [
    {
     "data": {
      "text/html": [
       "<table class=\"data-frame\"><thead><tr><th></th><th>date</th><th>McTavishMax</th><th>BellevueMax</th><th>AssomptionMax</th><th>TrudeauMax</th><th>StHubertMax</th></tr><tr><th></th><th>Date</th><th>Int64</th><th>Int64</th><th>Int64</th><th>Int64</th><th>Int64</th></tr></thead><tbody><p>1,288 rows × 6 columns</p><tr><th>1</th><td>2013-05-01</td><td>0</td><td>0</td><td>0</td><td>0</td><td>0</td></tr><tr><th>2</th><td>2013-05-02</td><td>0</td><td>0</td><td>0</td><td>0</td><td>0</td></tr><tr><th>3</th><td>2013-05-03</td><td>0</td><td>0</td><td>0</td><td>0</td><td>0</td></tr><tr><th>4</th><td>2013-05-04</td><td>0</td><td>0</td><td>0</td><td>0</td><td>0</td></tr><tr><th>5</th><td>2013-05-05</td><td>0</td><td>0</td><td>0</td><td>0</td><td>0</td></tr><tr><th>6</th><td>2013-05-06</td><td>0</td><td>0</td><td>0</td><td>0</td><td>0</td></tr><tr><th>7</th><td>2013-05-07</td><td>0</td><td>0</td><td>0</td><td>0</td><td>0</td></tr><tr><th>8</th><td>2013-05-08</td><td>0</td><td>0</td><td>0</td><td>0</td><td>0</td></tr><tr><th>9</th><td>2013-05-09</td><td>10</td><td>0</td><td>19</td><td>0</td><td>3</td></tr><tr><th>10</th><td>2013-05-10</td><td>0</td><td>4</td><td>20</td><td>0</td><td>4</td></tr><tr><th>11</th><td>2013-05-11</td><td>39</td><td>33</td><td>60</td><td>57</td><td>34</td></tr><tr><th>12</th><td>2013-05-12</td><td>0</td><td>0</td><td>10</td><td>0</td><td>2</td></tr><tr><th>13</th><td>2013-05-13</td><td>10</td><td>0</td><td>0</td><td>0</td><td>2</td></tr><tr><th>14</th><td>2013-05-14</td><td>0</td><td>0</td><td>0</td><td>0</td><td>0</td></tr><tr><th>15</th><td>2013-05-15</td><td>16</td><td>0</td><td>10</td><td>10</td><td>5</td></tr><tr><th>16</th><td>2013-05-16</td><td>0</td><td>0</td><td>0</td><td>0</td><td>0</td></tr><tr><th>17</th><td>2013-05-17</td><td>0</td><td>0</td><td>0</td><td>0</td><td>0</td></tr><tr><th>18</th><td>2013-05-18</td><td>0</td><td>0</td><td>0</td><td>0</td><td>0</td></tr><tr><th>19</th><td>2013-05-19</td><td>12</td><td>11</td><td>0</td><td>14</td><td>4</td></tr><tr><th>20</th><td>2013-05-20</td><td>27</td><td>12</td><td>50</td><td>17</td><td>12</td></tr><tr><th>21</th><td>2013-05-21</td><td>16</td><td>28</td><td>30</td><td>21</td><td>12</td></tr><tr><th>22</th><td>2013-05-22</td><td>26</td><td>0</td><td>0</td><td>0</td><td>5</td></tr><tr><th>23</th><td>2013-05-23</td><td>144</td><td>63</td><td>80</td><td>54</td><td>53</td></tr><tr><th>24</th><td>2013-05-24</td><td>26</td><td>12</td><td>20</td><td>15</td><td>12</td></tr><tr><th>25</th><td>2013-05-25</td><td>22</td><td>13</td><td>30</td><td>18</td><td>15</td></tr><tr><th>26</th><td>2013-05-26</td><td>25</td><td>20</td><td>30</td><td>24</td><td>18</td></tr><tr><th>27</th><td>2013-05-27</td><td>0</td><td>0</td><td>0</td><td>0</td><td>0</td></tr><tr><th>28</th><td>2013-05-28</td><td>11</td><td>0</td><td>0</td><td>0</td><td>2</td></tr><tr><th>29</th><td>2013-05-29</td><td>75</td><td>43</td><td>30</td><td>67</td><td>30</td></tr><tr><th>30</th><td>2013-05-30</td><td>0</td><td>0</td><td>0</td><td>0</td><td>0</td></tr><tr><th>&vellip;</th><td>&vellip;</td><td>&vellip;</td><td>&vellip;</td><td>&vellip;</td><td>&vellip;</td><td>&vellip;</td></tr></tbody></table>"
      ],
      "text/latex": [
       "\\begin{tabular}{r|cccccc}\n",
       "\t& date & McTavishMax & BellevueMax & AssomptionMax & TrudeauMax & StHubertMax\\\\\n",
       "\t\\hline\n",
       "\t& Date & Int64 & Int64 & Int64 & Int64 & Int64\\\\\n",
       "\t\\hline\n",
       "\t1 & 2013-05-01 & 0 & 0 & 0 & 0 & 0 \\\\\n",
       "\t2 & 2013-05-02 & 0 & 0 & 0 & 0 & 0 \\\\\n",
       "\t3 & 2013-05-03 & 0 & 0 & 0 & 0 & 0 \\\\\n",
       "\t4 & 2013-05-04 & 0 & 0 & 0 & 0 & 0 \\\\\n",
       "\t5 & 2013-05-05 & 0 & 0 & 0 & 0 & 0 \\\\\n",
       "\t6 & 2013-05-06 & 0 & 0 & 0 & 0 & 0 \\\\\n",
       "\t7 & 2013-05-07 & 0 & 0 & 0 & 0 & 0 \\\\\n",
       "\t8 & 2013-05-08 & 0 & 0 & 0 & 0 & 0 \\\\\n",
       "\t9 & 2013-05-09 & 10 & 0 & 19 & 0 & 3 \\\\\n",
       "\t10 & 2013-05-10 & 0 & 4 & 20 & 0 & 4 \\\\\n",
       "\t11 & 2013-05-11 & 39 & 33 & 60 & 57 & 34 \\\\\n",
       "\t12 & 2013-05-12 & 0 & 0 & 10 & 0 & 2 \\\\\n",
       "\t13 & 2013-05-13 & 10 & 0 & 0 & 0 & 2 \\\\\n",
       "\t14 & 2013-05-14 & 0 & 0 & 0 & 0 & 0 \\\\\n",
       "\t15 & 2013-05-15 & 16 & 0 & 10 & 10 & 5 \\\\\n",
       "\t16 & 2013-05-16 & 0 & 0 & 0 & 0 & 0 \\\\\n",
       "\t17 & 2013-05-17 & 0 & 0 & 0 & 0 & 0 \\\\\n",
       "\t18 & 2013-05-18 & 0 & 0 & 0 & 0 & 0 \\\\\n",
       "\t19 & 2013-05-19 & 12 & 11 & 0 & 14 & 4 \\\\\n",
       "\t20 & 2013-05-20 & 27 & 12 & 50 & 17 & 12 \\\\\n",
       "\t21 & 2013-05-21 & 16 & 28 & 30 & 21 & 12 \\\\\n",
       "\t22 & 2013-05-22 & 26 & 0 & 0 & 0 & 5 \\\\\n",
       "\t23 & 2013-05-23 & 144 & 63 & 80 & 54 & 53 \\\\\n",
       "\t24 & 2013-05-24 & 26 & 12 & 20 & 15 & 12 \\\\\n",
       "\t25 & 2013-05-25 & 22 & 13 & 30 & 18 & 15 \\\\\n",
       "\t26 & 2013-05-26 & 25 & 20 & 30 & 24 & 18 \\\\\n",
       "\t27 & 2013-05-27 & 0 & 0 & 0 & 0 & 0 \\\\\n",
       "\t28 & 2013-05-28 & 11 & 0 & 0 & 0 & 2 \\\\\n",
       "\t29 & 2013-05-29 & 75 & 43 & 30 & 67 & 30 \\\\\n",
       "\t30 & 2013-05-30 & 0 & 0 & 0 & 0 & 0 \\\\\n",
       "\t$\\dots$ & $\\dots$ & $\\dots$ & $\\dots$ & $\\dots$ & $\\dots$ & $\\dots$ \\\\\n",
       "\\end{tabular}\n"
      ],
      "text/plain": [
       "1288×6 DataFrame. Omitted printing of 1 columns\n",
       "│ Row  │ date       │ McTavishMax │ BellevueMax │ AssomptionMax │ TrudeauMax │\n",
       "│      │ \u001b[90mDate\u001b[39m       │ \u001b[90mInt64\u001b[39m       │ \u001b[90mInt64\u001b[39m       │ \u001b[90mInt64\u001b[39m         │ \u001b[90mInt64\u001b[39m      │\n",
       "├──────┼────────────┼─────────────┼─────────────┼───────────────┼────────────┤\n",
       "│ 1    │ 2013-05-01 │ 0           │ 0           │ 0             │ 0          │\n",
       "│ 2    │ 2013-05-02 │ 0           │ 0           │ 0             │ 0          │\n",
       "│ 3    │ 2013-05-03 │ 0           │ 0           │ 0             │ 0          │\n",
       "│ 4    │ 2013-05-04 │ 0           │ 0           │ 0             │ 0          │\n",
       "│ 5    │ 2013-05-05 │ 0           │ 0           │ 0             │ 0          │\n",
       "│ 6    │ 2013-05-06 │ 0           │ 0           │ 0             │ 0          │\n",
       "│ 7    │ 2013-05-07 │ 0           │ 0           │ 0             │ 0          │\n",
       "│ 8    │ 2013-05-08 │ 0           │ 0           │ 0             │ 0          │\n",
       "│ 9    │ 2013-05-09 │ 10          │ 0           │ 19            │ 0          │\n",
       "│ 10   │ 2013-05-10 │ 0           │ 4           │ 20            │ 0          │\n",
       "⋮\n",
       "│ 1278 │ 2019-10-21 │ 0           │ 0           │ 0             │ 0          │\n",
       "│ 1279 │ 2019-10-22 │ 31          │ 22          │ 22            │ 53         │\n",
       "│ 1280 │ 2019-10-23 │ 58          │ 29          │ 29            │ 28         │\n",
       "│ 1281 │ 2019-10-24 │ 0           │ 0           │ 0             │ 0          │\n",
       "│ 1282 │ 2019-10-25 │ 0           │ 0           │ 0             │ 0          │\n",
       "│ 1283 │ 2019-10-26 │ 0           │ 0           │ 0             │ 0          │\n",
       "│ 1284 │ 2019-10-27 │ 102         │ 56          │ 56            │ 98         │\n",
       "│ 1285 │ 2019-10-28 │ 3           │ 1           │ 1             │ 2          │\n",
       "│ 1286 │ 2019-10-29 │ 0           │ 0           │ 0             │ 0          │\n",
       "│ 1287 │ 2019-10-30 │ 0           │ 0           │ 0             │ 0          │\n",
       "│ 1288 │ 2019-10-31 │ 0           │ 0           │ 0             │ 0          │"
      ]
     },
     "execution_count": 46,
     "metadata": {},
     "output_type": "execute_result"
    }
   ],
   "source": [
    "# Trouver le max de precipitation journalier\n",
    "pcp_max = by(data_precipitations, :date,  McTavish = :McTavish=>maximum, Bellevue = :Bellevue=>maximum, \n",
    "   Assomption = :Assomption=>maximum, Trudeau = :Trudeau=>maximum, StHubert = :StHubert=>maximum)\n",
    "\n",
    "# maxMcTavish = findmax(convert(Array, pcp_max[:,[2]]))[1]\n",
    "# maxBellevue = findmax(convert(Array, pcp_max[:,[3]]))[1]\n",
    "# maxAssomption = findmax(convert(Array, pcp_max[:,[4]]))[1]\n",
    "# maxTrudeau = findmax(convert(Array, pcp_max[:,[5]]))[1]\n",
    "# maxStHubert = findmax(convert(Array, pcp_max[:,[6]]))[1]\n",
    "\n",
    "# pcp_max[:McTavish] = [normalizeData(x, 0, maxMcTavish) for x in pcp_max[:McTavish]]\n",
    "# pcp_max[:Bellevue] = [normalizeData(x, 0, maxMcTavish) for x in pcp_max[:Bellevue]]\n",
    "# pcp_max[:Assomption] = [normalizeData(x, 0, maxMcTavish) for x in pcp_max[:Assomption]]\n",
    "# pcp_max[:Trudeau] = [normalizeData(x, 0, maxMcTavish) for x in pcp_max[:Trudeau]]\n",
    "# pcp_max[:StHubert] = [normalizeData(x, 0, maxMcTavish) for x in pcp_max[:StHubert]]\n",
    "\n",
    "rename!(pcp_max,\n",
    "    Symbol(\"McTavish\")=>:McTavishMax,\n",
    "    Symbol(\"Bellevue\")=>:BellevueMax,\n",
    "    Symbol(\"Assomption\")=>:AssomptionMax,\n",
    "    Symbol(\"Trudeau\")=>:TrudeauMax,\n",
    "    Symbol(\"StHubert\")=>:StHubertMax)\n"
   ]
  },
  {
   "cell_type": "markdown",
   "metadata": {},
   "source": [
    "## Préparation pour créer le modèle"
   ]
  },
  {
   "cell_type": "code",
   "execution_count": 47,
   "metadata": {},
   "outputs": [
    {
     "data": {
      "text/html": [
       "<table class=\"data-frame\"><thead><tr><th></th><th>NO_OUVRAGE</th><th>date</th><th>SURVERSE</th><th>McTavish</th><th>Bellevue</th><th>Assomption</th><th>Trudeau</th><th>StHubert</th></tr><tr><th></th><th>String</th><th>Date</th><th>Int64</th><th>Int64</th><th>Int64</th><th>Int64</th><th>Int64</th><th>Int64</th></tr></thead><tbody><p>5,129 rows × 16 columns (omitted printing of 8 columns)</p><tr><th>1</th><td>3260-01D</td><td>2013-05-01</td><td>0</td><td>0</td><td>0</td><td>0</td><td>0</td><td>0</td></tr><tr><th>2</th><td>3260-01D</td><td>2013-05-02</td><td>0</td><td>0</td><td>0</td><td>0</td><td>0</td><td>0</td></tr><tr><th>3</th><td>3260-01D</td><td>2013-05-03</td><td>0</td><td>0</td><td>0</td><td>0</td><td>0</td><td>0</td></tr><tr><th>4</th><td>3260-01D</td><td>2013-05-04</td><td>0</td><td>0</td><td>0</td><td>0</td><td>0</td><td>0</td></tr><tr><th>5</th><td>3260-01D</td><td>2013-05-05</td><td>0</td><td>0</td><td>0</td><td>0</td><td>0</td><td>0</td></tr><tr><th>6</th><td>3260-01D</td><td>2013-05-06</td><td>0</td><td>0</td><td>0</td><td>0</td><td>0</td><td>0</td></tr><tr><th>7</th><td>3260-01D</td><td>2013-05-07</td><td>0</td><td>0</td><td>0</td><td>0</td><td>0</td><td>0</td></tr><tr><th>8</th><td>3260-01D</td><td>2013-05-08</td><td>0</td><td>0</td><td>0</td><td>0</td><td>0</td><td>0</td></tr><tr><th>9</th><td>3260-01D</td><td>2013-05-09</td><td>0</td><td>10</td><td>0</td><td>19</td><td>0</td><td>5</td></tr><tr><th>10</th><td>3260-01D</td><td>2013-05-10</td><td>0</td><td>0</td><td>4</td><td>20</td><td>0</td><td>4</td></tr><tr><th>11</th><td>3260-01D</td><td>2013-05-11</td><td>1</td><td>106</td><td>105</td><td>190</td><td>138</td><td>106</td></tr><tr><th>12</th><td>3260-01D</td><td>2013-05-12</td><td>0</td><td>0</td><td>0</td><td>10</td><td>0</td><td>2</td></tr><tr><th>13</th><td>3260-01D</td><td>2013-05-13</td><td>0</td><td>10</td><td>0</td><td>0</td><td>0</td><td>2</td></tr><tr><th>14</th><td>3260-01D</td><td>2013-05-14</td><td>0</td><td>0</td><td>0</td><td>0</td><td>0</td><td>0</td></tr><tr><th>15</th><td>3260-01D</td><td>2013-05-15</td><td>0</td><td>40</td><td>0</td><td>10</td><td>10</td><td>11</td></tr><tr><th>16</th><td>3260-01D</td><td>2013-05-16</td><td>0</td><td>0</td><td>0</td><td>0</td><td>0</td><td>0</td></tr><tr><th>17</th><td>3260-01D</td><td>2013-05-17</td><td>0</td><td>0</td><td>0</td><td>0</td><td>0</td><td>0</td></tr><tr><th>18</th><td>3260-01D</td><td>2013-05-18</td><td>0</td><td>0</td><td>0</td><td>0</td><td>0</td><td>0</td></tr><tr><th>19</th><td>3260-01D</td><td>2013-05-19</td><td>0</td><td>12</td><td>21</td><td>0</td><td>32</td><td>11</td></tr><tr><th>20</th><td>3260-01D</td><td>2013-05-20</td><td>0</td><td>64</td><td>19</td><td>90</td><td>38</td><td>39</td></tr><tr><th>21</th><td>3260-01D</td><td>2013-05-21</td><td>0</td><td>40</td><td>51</td><td>50</td><td>39</td><td>34</td></tr><tr><th>22</th><td>3260-01D</td><td>2013-05-22</td><td>0</td><td>26</td><td>0</td><td>0</td><td>0</td><td>5</td></tr><tr><th>23</th><td>3260-01D</td><td>2013-05-23</td><td>0</td><td>232</td><td>92</td><td>240</td><td>108</td><td>132</td></tr><tr><th>24</th><td>3260-01D</td><td>2013-05-24</td><td>0</td><td>52</td><td>63</td><td>70</td><td>59</td><td>44</td></tr><tr><th>25</th><td>3260-01D</td><td>2013-05-25</td><td>0</td><td>116</td><td>56</td><td>98</td><td>79</td><td>65</td></tr><tr><th>26</th><td>3260-01D</td><td>2013-05-26</td><td>0</td><td>116</td><td>132</td><td>159</td><td>172</td><td>109</td></tr><tr><th>27</th><td>3260-01D</td><td>2013-05-27</td><td>0</td><td>0</td><td>0</td><td>0</td><td>0</td><td>0</td></tr><tr><th>28</th><td>3260-01D</td><td>2013-05-28</td><td>0</td><td>11</td><td>0</td><td>0</td><td>0</td><td>2</td></tr><tr><th>29</th><td>3260-01D</td><td>2013-05-29</td><td>1</td><td>146</td><td>80</td><td>50</td><td>189</td><td>88</td></tr><tr><th>30</th><td>3260-01D</td><td>2013-05-30</td><td>0</td><td>0</td><td>0</td><td>0</td><td>0</td><td>0</td></tr><tr><th>&vellip;</th><td>&vellip;</td><td>&vellip;</td><td>&vellip;</td><td>&vellip;</td><td>&vellip;</td><td>&vellip;</td><td>&vellip;</td><td>&vellip;</td></tr></tbody></table>"
      ],
      "text/latex": [
       "\\begin{tabular}{r|ccccccccc}\n",
       "\t& NO\\_OUVRAGE & date & SURVERSE & McTavish & Bellevue & Assomption & Trudeau & StHubert & \\\\\n",
       "\t\\hline\n",
       "\t& String & Date & Int64 & Int64 & Int64 & Int64 & Int64 & Int64 & \\\\\n",
       "\t\\hline\n",
       "\t1 & 3260-01D & 2013-05-01 & 0 & 0 & 0 & 0 & 0 & 0 & $\\dots$ \\\\\n",
       "\t2 & 3260-01D & 2013-05-02 & 0 & 0 & 0 & 0 & 0 & 0 & $\\dots$ \\\\\n",
       "\t3 & 3260-01D & 2013-05-03 & 0 & 0 & 0 & 0 & 0 & 0 & $\\dots$ \\\\\n",
       "\t4 & 3260-01D & 2013-05-04 & 0 & 0 & 0 & 0 & 0 & 0 & $\\dots$ \\\\\n",
       "\t5 & 3260-01D & 2013-05-05 & 0 & 0 & 0 & 0 & 0 & 0 & $\\dots$ \\\\\n",
       "\t6 & 3260-01D & 2013-05-06 & 0 & 0 & 0 & 0 & 0 & 0 & $\\dots$ \\\\\n",
       "\t7 & 3260-01D & 2013-05-07 & 0 & 0 & 0 & 0 & 0 & 0 & $\\dots$ \\\\\n",
       "\t8 & 3260-01D & 2013-05-08 & 0 & 0 & 0 & 0 & 0 & 0 & $\\dots$ \\\\\n",
       "\t9 & 3260-01D & 2013-05-09 & 0 & 10 & 0 & 19 & 0 & 5 & $\\dots$ \\\\\n",
       "\t10 & 3260-01D & 2013-05-10 & 0 & 0 & 4 & 20 & 0 & 4 & $\\dots$ \\\\\n",
       "\t11 & 3260-01D & 2013-05-11 & 1 & 106 & 105 & 190 & 138 & 106 & $\\dots$ \\\\\n",
       "\t12 & 3260-01D & 2013-05-12 & 0 & 0 & 0 & 10 & 0 & 2 & $\\dots$ \\\\\n",
       "\t13 & 3260-01D & 2013-05-13 & 0 & 10 & 0 & 0 & 0 & 2 & $\\dots$ \\\\\n",
       "\t14 & 3260-01D & 2013-05-14 & 0 & 0 & 0 & 0 & 0 & 0 & $\\dots$ \\\\\n",
       "\t15 & 3260-01D & 2013-05-15 & 0 & 40 & 0 & 10 & 10 & 11 & $\\dots$ \\\\\n",
       "\t16 & 3260-01D & 2013-05-16 & 0 & 0 & 0 & 0 & 0 & 0 & $\\dots$ \\\\\n",
       "\t17 & 3260-01D & 2013-05-17 & 0 & 0 & 0 & 0 & 0 & 0 & $\\dots$ \\\\\n",
       "\t18 & 3260-01D & 2013-05-18 & 0 & 0 & 0 & 0 & 0 & 0 & $\\dots$ \\\\\n",
       "\t19 & 3260-01D & 2013-05-19 & 0 & 12 & 21 & 0 & 32 & 11 & $\\dots$ \\\\\n",
       "\t20 & 3260-01D & 2013-05-20 & 0 & 64 & 19 & 90 & 38 & 39 & $\\dots$ \\\\\n",
       "\t21 & 3260-01D & 2013-05-21 & 0 & 40 & 51 & 50 & 39 & 34 & $\\dots$ \\\\\n",
       "\t22 & 3260-01D & 2013-05-22 & 0 & 26 & 0 & 0 & 0 & 5 & $\\dots$ \\\\\n",
       "\t23 & 3260-01D & 2013-05-23 & 0 & 232 & 92 & 240 & 108 & 132 & $\\dots$ \\\\\n",
       "\t24 & 3260-01D & 2013-05-24 & 0 & 52 & 63 & 70 & 59 & 44 & $\\dots$ \\\\\n",
       "\t25 & 3260-01D & 2013-05-25 & 0 & 116 & 56 & 98 & 79 & 65 & $\\dots$ \\\\\n",
       "\t26 & 3260-01D & 2013-05-26 & 0 & 116 & 132 & 159 & 172 & 109 & $\\dots$ \\\\\n",
       "\t27 & 3260-01D & 2013-05-27 & 0 & 0 & 0 & 0 & 0 & 0 & $\\dots$ \\\\\n",
       "\t28 & 3260-01D & 2013-05-28 & 0 & 11 & 0 & 0 & 0 & 2 & $\\dots$ \\\\\n",
       "\t29 & 3260-01D & 2013-05-29 & 1 & 146 & 80 & 50 & 189 & 88 & $\\dots$ \\\\\n",
       "\t30 & 3260-01D & 2013-05-30 & 0 & 0 & 0 & 0 & 0 & 0 & $\\dots$ \\\\\n",
       "\t$\\dots$ & $\\dots$ & $\\dots$ & $\\dots$ & $\\dots$ & $\\dots$ & $\\dots$ & $\\dots$ & $\\dots$ &  \\\\\n",
       "\\end{tabular}\n"
      ],
      "text/plain": [
       "5129×16 DataFrame. Omitted printing of 10 columns\n",
       "│ Row  │ NO_OUVRAGE │ date       │ SURVERSE │ McTavish │ Bellevue │ Assomption │\n",
       "│      │ \u001b[90mString\u001b[39m     │ \u001b[90mDate\u001b[39m       │ \u001b[90mInt64\u001b[39m    │ \u001b[90mInt64\u001b[39m    │ \u001b[90mInt64\u001b[39m    │ \u001b[90mInt64\u001b[39m      │\n",
       "├──────┼────────────┼────────────┼──────────┼──────────┼──────────┼────────────┤\n",
       "│ 1    │ 3260-01D   │ 2013-05-01 │ 0        │ 0        │ 0        │ 0          │\n",
       "│ 2    │ 3260-01D   │ 2013-05-02 │ 0        │ 0        │ 0        │ 0          │\n",
       "│ 3    │ 3260-01D   │ 2013-05-03 │ 0        │ 0        │ 0        │ 0          │\n",
       "│ 4    │ 3260-01D   │ 2013-05-04 │ 0        │ 0        │ 0        │ 0          │\n",
       "│ 5    │ 3260-01D   │ 2013-05-05 │ 0        │ 0        │ 0        │ 0          │\n",
       "│ 6    │ 3260-01D   │ 2013-05-06 │ 0        │ 0        │ 0        │ 0          │\n",
       "│ 7    │ 3260-01D   │ 2013-05-07 │ 0        │ 0        │ 0        │ 0          │\n",
       "│ 8    │ 3260-01D   │ 2013-05-08 │ 0        │ 0        │ 0        │ 0          │\n",
       "│ 9    │ 3260-01D   │ 2013-05-09 │ 0        │ 10       │ 0        │ 19         │\n",
       "│ 10   │ 3260-01D   │ 2013-05-10 │ 0        │ 0        │ 4        │ 20         │\n",
       "⋮\n",
       "│ 5119 │ 4380-01D   │ 2018-10-21 │ 0        │ 0        │ 0        │ 0          │\n",
       "│ 5120 │ 4380-01D   │ 2018-10-22 │ 0        │ 0        │ 0        │ 0          │\n",
       "│ 5121 │ 4380-01D   │ 2018-10-23 │ 0        │ 0        │ 0        │ 0          │\n",
       "│ 5122 │ 4380-01D   │ 2018-10-24 │ 0        │ 18       │ 3        │ 12         │\n",
       "│ 5123 │ 4380-01D   │ 2018-10-25 │ 0        │ 0        │ 0        │ 0          │\n",
       "│ 5124 │ 4380-01D   │ 2018-10-26 │ 0        │ 0        │ 0        │ 0          │\n",
       "│ 5125 │ 4380-01D   │ 2018-10-27 │ 0        │ 101      │ 66       │ 71         │\n",
       "│ 5126 │ 4380-01D   │ 2018-10-28 │ 0        │ 88       │ 75       │ 95         │\n",
       "│ 5127 │ 4380-01D   │ 2018-10-29 │ 0        │ 13       │ 14       │ 20         │\n",
       "│ 5128 │ 4380-01D   │ 2018-10-30 │ 0        │ 0        │ 0        │ 0          │\n",
       "│ 5129 │ 4380-01D   │ 2018-10-31 │ 0        │ 85       │ 95       │ 78         │"
      ]
     },
     "execution_count": 47,
     "metadata": {},
     "output_type": "execute_result"
    }
   ],
   "source": [
    "# Filtrer les ouvrages étudiés\n",
    "df_surve = filter(row ->\n",
    "    row.NO_OUVRAGE == \"3260-01D\" ||\n",
    "    row.NO_OUVRAGE == \"3350-07D\" ||\n",
    "    row.NO_OUVRAGE == \"4240-01D\" ||\n",
    "    row.NO_OUVRAGE == \"4350-01D\" ||\n",
    "    row.NO_OUVRAGE == \"4380-01D\", surverse_df)\n",
    "\n",
    "rename!(df_surve, Symbol(\"DATE\")=>:date)\n",
    "\n",
    "# # Fusionner les datasets contenant les ouvrages etudies et les variables explicatives ensemble\n",
    "enhanced_surve = join(df_surve, pcp_sum, on=:date, kind=:inner)\n",
    "enhanced_surve = join(enhanced_surve, pcp_max, on=:date, kind=:inner)\n",
    "enhanced_surve = join(enhanced_surve, df_ouvrage, on=:NO_OUVRAGE, kind=:left)"
   ]
  },
  {
   "cell_type": "code",
   "execution_count": 48,
   "metadata": {},
   "outputs": [
    {
     "name": "stderr",
     "output_type": "stream",
     "text": [
      "┌ Warning: `getindex(df::DataFrame, col_ind::ColumnIndex)` is deprecated, use `df[!, col_ind]` instead.\n",
      "│   caller = top-level scope at In[48]:34\n",
      "└ @ Core In[48]:34\n",
      "┌ Warning: `setindex!(df::DataFrame, v::AbstractVector, col_ind::ColumnIndex)` is deprecated, use `begin\n",
      "│     df[!, col_ind] = v\n",
      "│     df\n",
      "│ end` instead.\n",
      "│   caller = top-level scope at In[48]:34\n",
      "└ @ Core In[48]:34\n"
     ]
    },
    {
     "data": {
      "text/plain": [
       "16-element Array{Symbol,1}:\n",
       " :NO_OUVRAGE           \n",
       " :date                 \n",
       " :SURVERSE             \n",
       " :McTavish             \n",
       " :Bellevue             \n",
       " :Assomption           \n",
       " :Trudeau              \n",
       " :StHubert             \n",
       " :McTavishMax          \n",
       " :BellevueMax          \n",
       " :AssomptionMax        \n",
       " :TrudeauMax           \n",
       " :StHubertMax          \n",
       " Symbol(\"Trop-Plein X\")\n",
       " Symbol(\"Trop-Plein Y\")\n",
       " Symbol(\"Trop-Plein Z\")"
      ]
     },
     "execution_count": 48,
     "metadata": {},
     "output_type": "execute_result"
    }
   ],
   "source": [
    "# # Trouver les moyennes pour remplacer les donnees manquantes\n",
    "# McTavish_Sum_Avg = mean(skipmissing(enhanced_surve[:,:McTavish]))\n",
    "# Bellevue_Sum_Avg = mean(skipmissing(enhanced_surve[:,:Bellevue]))\n",
    "# Assomption_Sum_Avg = mean(skipmissing(enhanced_surve[:,:Assomption]))\n",
    "# Trudeau_Sum_Avg = mean(skipmissing(enhanced_surve[:,:Trudeau]))\n",
    "# StHubert_Sum_Avg = mean(skipmissing(enhanced_surve[:,:StHubert]))\n",
    "\n",
    "# McTavish_Max_Avg = mean(skipmissing(enhanced_surve[:,:McTavishMax]))\n",
    "# Bellevue_Max_Avg = mean(skipmissing(enhanced_surve[:,:BellevueMax]))\n",
    "# Assomption_Max_Avg = mean(skipmissing(enhanced_surve[:,:AssomptionMax]))\n",
    "# Trudeau_Max_Avg = mean(skipmissing(enhanced_surve[:,:TrudeauMax]))\n",
    "# StHubert_Max_Avg = mean(skipmissing(enhanced_surve[:,:StHubertMax]))\n",
    "\n",
    "# # Tableau avec les moyennes pour remplacer les donnees manquantes\n",
    "# replacement = [McTavish_Sum_Avg, Bellevue_Sum_Avg, Assomption_Sum_Avg, Trudeau_Sum_Avg, StHubert_Sum_Avg,\n",
    "#                 McTavish_Max_Avg, Bellevue_Max_Avg, Assomption_Max_Avg, Trudeau_Max_Avg, StHubert_Max_Avg]\n",
    "\n",
    "# # Remplacer les donnees manquantes\n",
    "# # Commence a 4 pour les column des precipitations\n",
    "# for i = 4:size(enhanced_surve,2)\n",
    "#     for j = 1:size(enhanced_surve, 1)\n",
    "#         if enhanced_surve[j,i] === missing\n",
    "#             enhanced_surve[j,i] = floor(replacement[i - 3])\n",
    "#         end\n",
    "#     end\n",
    "# end\n",
    "\n",
    "\n",
    "enhanced_surve.NO_OUVRAGE[enhanced_surve.NO_OUVRAGE .== \"3260-01D\"] .= \"1\"\n",
    "enhanced_surve.NO_OUVRAGE[enhanced_surve.NO_OUVRAGE .== \"3350-07D\"] .= \"2\"\n",
    "enhanced_surve.NO_OUVRAGE[enhanced_surve.NO_OUVRAGE .== \"4240-01D\"] .= \"3\"\n",
    "enhanced_surve.NO_OUVRAGE[enhanced_surve.NO_OUVRAGE .== \"4350-01D\"] .= \"4\"\n",
    "enhanced_surve.NO_OUVRAGE[enhanced_surve.NO_OUVRAGE .== \"4380-01D\"] .= \"5\"\n",
    "\n",
    "enhanced_surve[:NO_OUVRAGE] = [parse(Int,x) for x in enhanced_surve[:NO_OUVRAGE]] \n",
    "\n",
    "names(enhanced_surve)"
   ]
  },
  {
   "cell_type": "markdown",
   "metadata": {},
   "source": [
    "## Générer le modèle"
   ]
  },
  {
   "cell_type": "code",
   "execution_count": 49,
   "metadata": {},
   "outputs": [
    {
     "name": "stdout",
     "output_type": "stream",
     "text": [
      "L'accuracy est de 0.8956911678689803"
     ]
    },
    {
     "name": "stderr",
     "output_type": "stream",
     "text": [
      "┌ Warning: `convert(::Type{Array}, df::AbstractDataFrame)` is deprecated, use `convert(Matrix, df)` instead.\n",
      "│   caller = top-level scope at In[49]:1\n",
      "└ @ Core In[49]:1\n",
      "WARNING: redefining constant MultinomialNB\n",
      "WARNING: redefining constant accuracy_score\n"
     ]
    },
    {
     "name": "stdout",
     "output_type": "stream",
     "text": [
      "\n"
     ]
    },
    {
     "data": {
      "text/plain": [
       "5-element Array{Float64,1}:\n",
       " 0.8695228821811101\n",
       " 0.8851022395326192\n",
       " 0.9346341463414635\n",
       " 0.895609756097561 \n",
       " 0.8946341463414634"
      ]
     },
     "execution_count": 49,
     "metadata": {},
     "output_type": "execute_result"
    }
   ],
   "source": [
    "x = convert(Array, enhanced_surve[:,[1,4,5,6,7,8,9,10,11,12,13,14]])\n",
    "y = convert(Array, enhanced_surve[:,:SURVERSE])\n",
    "\n",
    "# Créer le modèle\n",
    "@sk_import naive_bayes : MultinomialNB\n",
    "nb_model = MultinomialNB()\n",
    "\n",
    "# Entraîner le modèle\n",
    "nb_model.fit(x,y)\n",
    "\n",
    "# Evaluer l'accuracy du modèle\n",
    "predictions = nb_model.predict(x)\n",
    "@sk_import metrics : accuracy_score\n",
    "accuracy = accuracy_score(predictions, y)\n",
    "println(\"L'accuracy est de $accuracy\")\n",
    "\n",
    "using ScikitLearn.CrossValidation: cross_val_score\n",
    "cross_val_score(MultinomialNB(), x,y, cv=5)"
   ]
  },
  {
   "cell_type": "code",
   "execution_count": 54,
   "metadata": {
    "scrolled": true
   },
   "outputs": [
    {
     "name": "stderr",
     "output_type": "stream",
     "text": [
      "┌ Warning: `getindex(df::DataFrame, col_ind::ColumnIndex)` is deprecated, use `df[!, col_ind]` instead.\n",
      "│   caller = top-level scope at In[54]:48\n",
      "└ @ Core In[54]:48\n",
      "┌ Warning: `setindex!(df::DataFrame, v::AbstractVector, col_ind::ColumnIndex)` is deprecated, use `begin\n",
      "│     df[!, col_ind] = v\n",
      "│     df\n",
      "│ end` instead.\n",
      "│   caller = top-level scope at In[54]:48\n",
      "└ @ Core In[54]:48\n",
      "┌ Warning: `convert(::Type{Array}, df::AbstractDataFrame)` is deprecated, use `convert(Matrix, df)` instead.\n",
      "│   caller = top-level scope at In[54]:53\n",
      "└ @ Core In[54]:53\n"
     ]
    },
    {
     "data": {
      "text/plain": [
       "283"
      ]
     },
     "execution_count": 54,
     "metadata": {},
     "output_type": "execute_result"
    }
   ],
   "source": [
    "### Retrieve test data\n",
    "test = CSV.read(\"data/test.csv\");\n",
    "\n",
    "# Filtrer les ouvrages étudiés\n",
    "test_df_surve = filter(row ->\n",
    "    row.NO_OUVRAGE == \"3260-01D\" ||\n",
    "    row.NO_OUVRAGE == \"3350-07D\" ||\n",
    "    row.NO_OUVRAGE == \"4240-01D\" ||\n",
    "    row.NO_OUVRAGE == \"4350-01D\" ||\n",
    "    row.NO_OUVRAGE == \"4380-01D\", test)\n",
    "\n",
    "rename!(test_df_surve, Symbol(\"DATE\")=>:date)\n",
    "\n",
    "# # # Fusionner les datasets contenant les ouvrages etudies et les variables explicatives ensemble\n",
    "test_enhanced_surve = join(test_df_surve, pcp_sum, on=:date, kind=:inner)\n",
    "test_enhanced_surve = join(test_enhanced_surve, pcp_max, on=:date, kind=:inner)\n",
    "test_enhanced_surve = join(test_enhanced_surve, df_ouvrage, on=:NO_OUVRAGE, kind=:left)\n",
    "\n",
    "# McTavish_Sum_Avg = mean(skipmissing(test_enhanced_surve[:,:McTavish]))\n",
    "# Bellevue_Sum_Avg = mean(skipmissing(test_enhanced_surve[:,:Bellevue]))\n",
    "# Assomption_Sum_Avg = mean(skipmissing(test_enhanced_surve[:,:Assomption]))\n",
    "# Trudeau_Sum_Avg = mean(skipmissing(test_enhanced_surve[:,:Trudeau]))\n",
    "# StHubert_Sum_Avg = mean(skipmissing(test_enhanced_surve[:,:StHubert]))\n",
    "\n",
    "# McTavish_Max_Avg = mean(skipmissing(test_enhanced_surve[:,:McTavishMax]))\n",
    "# Bellevue_Max_Avg = mean(skipmissing(test_enhanced_surve[:,:BellevueMax]))\n",
    "# Assomption_Max_Avg = mean(skipmissing(test_enhanced_surve[:,:AssomptionMax]))\n",
    "# Trudeau_Max_Avg = mean(skipmissing(test_enhanced_surve[:,:TrudeauMax]))\n",
    "# StHubert_Max_Avg = mean(skipmissing(test_enhanced_surve[:,:StHubertMax]))\n",
    "\n",
    "# replacement = [McTavish_Sum_Avg, Bellevue_Sum_Avg, Assomption_Sum_Avg, Trudeau_Sum_Avg, StHubert_Sum_Avg,\n",
    "#                 McTavish_Max_Avg, Bellevue_Max_Avg, Assomption_Max_Avg, Trudeau_Max_Avg, StHubert_Max_Avg]\n",
    "\n",
    "# # Commence a 3 pour les column des precipitations\n",
    "# for i = 3:size(test_enhanced_surve,2)\n",
    "#     for j = 1:size(test_enhanced_surve, 1)\n",
    "#         if test_enhanced_surve[j,i] === missing\n",
    "#             test_enhanced_surve[j,i] = floor(replacement[i - 2])\n",
    "#         end\n",
    "#     end\n",
    "# end\n",
    "\n",
    "test_enhanced_surve.NO_OUVRAGE[test_enhanced_surve.NO_OUVRAGE .== \"3260-01D\"] .= \"1\"\n",
    "test_enhanced_surve.NO_OUVRAGE[test_enhanced_surve.NO_OUVRAGE .== \"3350-07D\"] .= \"2\"\n",
    "test_enhanced_surve.NO_OUVRAGE[test_enhanced_surve.NO_OUVRAGE .== \"4240-01D\"] .= \"3\"\n",
    "test_enhanced_surve.NO_OUVRAGE[test_enhanced_surve.NO_OUVRAGE .== \"4350-01D\"] .= \"4\"\n",
    "test_enhanced_surve.NO_OUVRAGE[test_enhanced_surve.NO_OUVRAGE .== \"4380-01D\"] .= \"5\"\n",
    "\n",
    "test_enhanced_surve[:NO_OUVRAGE] = [parse(Int,x) for x in test_enhanced_surve[:NO_OUVRAGE]] \n",
    "\n",
    "\n",
    "test_enhanced_surve\n",
    "x = convert(Array, test_enhanced_surve[:,[1,3,4,5,6,7,8,9,10,11,12,13]])\n",
    "\n",
    "predictions = nb_model.predict(x)\n",
    "n = size(test_df_surve, 1)"
   ]
  },
  {
   "cell_type": "code",
   "execution_count": null,
   "metadata": {
    "scrolled": true
   },
   "outputs": [],
   "source": []
  },
  {
   "cell_type": "code",
   "execution_count": 56,
   "metadata": {},
   "outputs": [
    {
     "data": {
      "text/plain": [
       "\"naive-bayes-submission.csv\""
      ]
     },
     "execution_count": 56,
     "metadata": {},
     "output_type": "execute_result"
    }
   ],
   "source": [
    "ID = Array{String}(undef, n)\n",
    "for i = 1:n\n",
    "    ID[i] = string(test[i,:NO_OUVRAGE], \"_\", Dates.format(test[i,:DATE], \"yyyy-mm-dd\"))\n",
    "end\n",
    "YTotalBool = Array{String}(undef, n)\n",
    "\n",
    "for i = 1:n\n",
    "    if predictions[i] == 0\n",
    "        YTotalBool[i] = \"FALSE\"\n",
    "    else\n",
    "        YTotalBool[i] = \"TRUE\"\n",
    "    end\n",
    "end\n",
    "\n",
    "prediction = DataFrame(ID = ID, Surverse = YTotalBool)\n",
    "CSV.write(\"naive-bayes-submission.csv\",prediction)"
   ]
  },
  {
   "cell_type": "code",
   "execution_count": null,
   "metadata": {},
   "outputs": [],
   "source": []
  },
  {
   "cell_type": "code",
   "execution_count": null,
   "metadata": {},
   "outputs": [],
   "source": []
  }
 ],
 "metadata": {
  "kernelspec": {
   "display_name": "Julia 1.3.0",
   "language": "julia",
   "name": "julia-1.3"
  },
  "language_info": {
   "file_extension": ".jl",
   "mimetype": "application/julia",
   "name": "julia",
   "version": "1.3.0"
  }
 },
 "nbformat": 4,
 "nbformat_minor": 2
}
