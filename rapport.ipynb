{
 "cells": [
  {
   "cell_type": "markdown",
   "metadata": {},
   "source": [
    "# Débordement d'égouts\n",
    "## Rapport final\n",
    "#### Équipe 15: Jeremy Boulet, Duc-Thien Nguyen, Olivia You-Tuon et Steven Lam\n",
    "#### 20 décembre 2019\n",
    "\n",
    "---\n",
    "\n",
    "## Table des matières\n",
    "1. [Objectif](#goal)\n",
    "2. [Méthode](#method)\n"
   ]
  },
  {
   "cell_type": "markdown",
   "metadata": {},
   "source": [
    "<a id=\"goal\"></a>\n",
    "## Objectif\n",
    "L'objectif de ce projet est de prédire, à l'aide de jeux de données de la ville de Montréal, les débordements futurs de 5 ouvrages. Le sous-objectif est d'identifier les variables explicatives qui permettront de faire les prédictions les plus précises."
   ]
  }
 ],
 "metadata": {
  "kernelspec": {
   "display_name": "Julia 1.2.0",
   "language": "julia",
   "name": "julia-1.2"
  },
  "language_info": {
   "file_extension": ".jl",
   "mimetype": "application/julia",
   "name": "julia",
   "version": "1.2.0"
  }
 },
 "nbformat": 4,
 "nbformat_minor": 2
}
