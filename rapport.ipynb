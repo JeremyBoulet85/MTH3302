{
 "cells": [
  {
   "cell_type": "markdown",
   "metadata": {},
   "source": [
    "# Débordement d'égouts\n",
    "## Rapport final\n",
    "#### Équipe 15: Jeremy Boulet, Duc-Thien Nguyen, Olivia You-Tuon et Steven Lam\n",
    "#### 20 décembre 2019\n",
    "\n",
    "---\n",
    "\n",
    "## Table des matières\n",
    "\n",
    "- [1. Introduction](#introduction)\n",
    "    - [1.1 Objectif](#goal)\n",
    "    - [1.2 Variables explicatives](#varExplicative)\n",
    "- [2. Méthode](#method)\n",
    "    - [2.1 Traitement des données](#missingvalues)\n",
    "    - [2.2 Les modèles](#models)\n",
    "        - [2.2.1 Logistic Regression](#logit)\n",
    "        - [2.2.2 Random Forest Tree](#rft)\n",
    "        - [2.2.3 Naive-Bayesian](#naive)\n",
    "- [3. Conclusion](#conclusion)\n"
   ]
  },
  {
   "cell_type": "markdown",
   "metadata": {},
   "source": [
    "<a id=\"introduction\"></a>\n",
    "## 1. Introduction\n",
    "\n",
    "<a id=\"goal\"></a>\n",
    "### 1.1 Objectif\n",
    "L'objectif de ce projet est de prédire, à l'aide de jeux de données de la ville de Montréal, les débordements futurs de 5 ouvrages pour une partie de 2019. Le sous-objectif est d'identifier les variables explicatives qui permettront de faire les prédictions les plus précises. Avec les données, il faut aussi gérer les valeurs manquantes et les valeurs abérantes.\n",
    "\n",
    "<a id=\"varExplicative\"></a>\n",
    "### 1.2 Variables explicatives\n",
    "En analysant les données fournies par l'énnoncé, nous avons déterminer que nos variables explicatives sont: \n",
    "\n",
    "__Les sommes__ :\n",
    "- __Somme McTavish__ : Somme de la précipitation de la journée pour la station McTavish.\n",
    "- __Somme Bellevue__ : Somme de la précipitation de la journée pour la station de Bellevue.\n",
    "- __Somme Trudeau__ : Somme de la précipitation de la journée pour la station de Trudeau.\n",
    "- __Somme St-Hubert__ : Somme de la précipitation de la journée pour la station de St-Hubert.\n",
    "- __Somme Assomption__ : Somme de la précipitation de la journée pour la station de Assomption.\n",
    "\n",
    "__Les maximums__ :\n",
    "- __Max McTavish__ : Maximum de précipitation de la journée pour la station McTavish.\n",
    "- __Max Bellevue__ : Maximum de précipitation de la journée pour la station Bellevue.\n",
    "- __Max Trudeau__ : Maximum de précipitation de la journée pour la station Trudeau.\n",
    "- __Max St-Hubert__ : Maximum de précipitation de la journée pour la station St-Hubert.\n",
    "- __Max Assomption__ : Maximum de précipitation de la journée pour la station Assomption.\n",
    "\n",
    "__Les données des ouvrages__:\n",
    "- __Trop plein X__: Coordonnée UTM en X du trop plein.\n",
    "- __Trop plein Y__: Coordonnée UTM en Y du trop plein.\n",
    "- __Trop plein Z__: Hauteur en Z du tube d'évacuation du trop plein.\n"
   ]
  },
  {
   "cell_type": "markdown",
   "metadata": {},
   "source": [
    "<a id=\"method\"></a>\n",
    "## 2. Méthode"
   ]
  },
  {
   "cell_type": "markdown",
   "metadata": {},
   "source": [
    "<a id=\"missingvalues\"></a>\n",
    "### 2.1 Traitement des données"
   ]
  },
  {
   "cell_type": "code",
   "execution_count": null,
   "metadata": {},
   "outputs": [],
   "source": []
  },
  {
   "cell_type": "markdown",
   "metadata": {},
   "source": [
    "<a id=\"models\"></a>\n",
    "### 2.2 Les modèles\n",
    "Pour ce projet, nous avons opter d'utiliser trois modèles différents: Logistic Regression, Random Forest Tree et Naive-Bayesian."
   ]
  },
  {
   "cell_type": "markdown",
   "metadata": {},
   "source": [
    "<a id=\"logit\"></a>\n",
    "#### 2.2.1 Logistic Regression"
   ]
  },
  {
   "cell_type": "code",
   "execution_count": null,
   "metadata": {},
   "outputs": [],
   "source": [
    "# Ajouter les codes de logit  et justifications"
   ]
  },
  {
   "cell_type": "markdown",
   "metadata": {},
   "source": [
    "<a id=\"rft\"></a>\n",
    "#### 2.2.2 Ranfom Forest Tree"
   ]
  },
  {
   "cell_type": "code",
   "execution_count": null,
   "metadata": {},
   "outputs": [],
   "source": [
    "# Ajouter les codes de RFT et justifications"
   ]
  },
  {
   "cell_type": "markdown",
   "metadata": {},
   "source": [
    "<a id=\"naive\"></a>\n",
    "#### 2.2.3 Naive-Bayesian"
   ]
  },
  {
   "cell_type": "code",
   "execution_count": null,
   "metadata": {},
   "outputs": [],
   "source": [
    "# Ajouter les codes de RFT et justifications"
   ]
  },
  {
   "cell_type": "markdown",
   "metadata": {},
   "source": [
    "## 3.1 Conclusion\n"
   ]
  }
 ],
 "metadata": {
  "kernelspec": {
   "display_name": "Julia 1.2.0",
   "language": "julia",
   "name": "julia-1.2"
  },
  "language_info": {
   "file_extension": ".jl",
   "mimetype": "application/julia",
   "name": "julia",
   "version": "1.2.0"
  }
 },
 "nbformat": 4,
 "nbformat_minor": 2
}
