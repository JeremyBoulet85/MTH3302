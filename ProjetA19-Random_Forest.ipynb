{
 "cells": [
  {
   "cell_type": "code",
   "execution_count": 3,
   "metadata": {},
   "outputs": [
    {
     "data": {
      "text/plain": [
       "categorizeMax (generic function with 1 method)"
      ]
     },
     "execution_count": 3,
     "metadata": {},
     "output_type": "execute_result"
    }
   ],
   "source": [
    "using CSV, DataFrames, Statistics, Dates, Gadfly, GLM, Distributions, LinearAlgebra, DecisionTree, ScikitLearn\n",
    "include(\"Utils.jl\")"
   ]
  },
  {
   "cell_type": "code",
   "execution_count": 4,
   "metadata": {},
   "outputs": [
    {
     "data": {
      "text/html": [
       "<table class=\"data-frame\"><thead><tr><th></th><th>NO_OUVRAGE</th><th>DATE</th><th>SURVERSE</th><th>RAISON</th></tr><tr><th></th><th>String</th><th>Date</th><th>Int64⍰</th><th>String⍰</th></tr></thead><tbody><p>5 rows × 4 columns</p><tr><th>1</th><td>0642-01D</td><td>2013-05-01</td><td>0</td><td>missing</td></tr><tr><th>2</th><td>0642-01D</td><td>2013-05-02</td><td>0</td><td>missing</td></tr><tr><th>3</th><td>0642-01D</td><td>2013-05-03</td><td>0</td><td>missing</td></tr><tr><th>4</th><td>0642-01D</td><td>2013-05-04</td><td>0</td><td>missing</td></tr><tr><th>5</th><td>0642-01D</td><td>2013-05-05</td><td>0</td><td>missing</td></tr></tbody></table>"
      ],
      "text/latex": [
       "\\begin{tabular}{r|cccc}\n",
       "\t& NO\\_OUVRAGE & DATE & SURVERSE & RAISON\\\\\n",
       "\t\\hline\n",
       "\t& String & Date & Int64⍰ & String⍰\\\\\n",
       "\t\\hline\n",
       "\t1 & 0642-01D & 2013-05-01 & 0 &  \\\\\n",
       "\t2 & 0642-01D & 2013-05-02 & 0 &  \\\\\n",
       "\t3 & 0642-01D & 2013-05-03 & 0 &  \\\\\n",
       "\t4 & 0642-01D & 2013-05-04 & 0 &  \\\\\n",
       "\t5 & 0642-01D & 2013-05-05 & 0 &  \\\\\n",
       "\\end{tabular}\n"
      ],
      "text/plain": [
       "5×4 DataFrame\n",
       "│ Row │ NO_OUVRAGE │ DATE       │ SURVERSE │ RAISON  │\n",
       "│     │ \u001b[90mString\u001b[39m     │ \u001b[90mDate\u001b[39m       │ \u001b[90mInt64⍰\u001b[39m   │ \u001b[90mString⍰\u001b[39m │\n",
       "├─────┼────────────┼────────────┼──────────┼─────────┤\n",
       "│ 1   │ 0642-01D   │ 2013-05-01 │ 0        │ \u001b[90mmissing\u001b[39m │\n",
       "│ 2   │ 0642-01D   │ 2013-05-02 │ 0        │ \u001b[90mmissing\u001b[39m │\n",
       "│ 3   │ 0642-01D   │ 2013-05-03 │ 0        │ \u001b[90mmissing\u001b[39m │\n",
       "│ 4   │ 0642-01D   │ 2013-05-04 │ 0        │ \u001b[90mmissing\u001b[39m │\n",
       "│ 5   │ 0642-01D   │ 2013-05-05 │ 0        │ \u001b[90mmissing\u001b[39m │"
      ]
     },
     "execution_count": 4,
     "metadata": {},
     "output_type": "execute_result"
    }
   ],
   "source": [
    "data_surverse = CSV.read(\"data/surverses.csv\",missingstring=\"-99999\")\n",
    "first(data_surverse,5)"
   ]
  },
  {
   "cell_type": "code",
   "execution_count": 5,
   "metadata": {},
   "outputs": [
    {
     "data": {
      "text/html": [
       "<table class=\"data-frame\"><thead><tr><th></th><th>NO_OUVRAGE</th><th>DATE</th><th>SURVERSE</th><th>RAISON</th></tr><tr><th></th><th>String</th><th>Date</th><th>Int64⍰</th><th>String⍰</th></tr></thead><tbody><p>5 rows × 4 columns</p><tr><th>1</th><td>0642-01D</td><td>2013-05-01</td><td>0</td><td>missing</td></tr><tr><th>2</th><td>0642-01D</td><td>2013-05-02</td><td>0</td><td>missing</td></tr><tr><th>3</th><td>0642-01D</td><td>2013-05-03</td><td>0</td><td>missing</td></tr><tr><th>4</th><td>0642-01D</td><td>2013-05-04</td><td>0</td><td>missing</td></tr><tr><th>5</th><td>0642-01D</td><td>2013-05-05</td><td>0</td><td>missing</td></tr></tbody></table>"
      ],
      "text/latex": [
       "\\begin{tabular}{r|cccc}\n",
       "\t& NO\\_OUVRAGE & DATE & SURVERSE & RAISON\\\\\n",
       "\t\\hline\n",
       "\t& String & Date & Int64⍰ & String⍰\\\\\n",
       "\t\\hline\n",
       "\t1 & 0642-01D & 2013-05-01 & 0 &  \\\\\n",
       "\t2 & 0642-01D & 2013-05-02 & 0 &  \\\\\n",
       "\t3 & 0642-01D & 2013-05-03 & 0 &  \\\\\n",
       "\t4 & 0642-01D & 2013-05-04 & 0 &  \\\\\n",
       "\t5 & 0642-01D & 2013-05-05 & 0 &  \\\\\n",
       "\\end{tabular}\n"
      ],
      "text/plain": [
       "5×4 DataFrame\n",
       "│ Row │ NO_OUVRAGE │ DATE       │ SURVERSE │ RAISON  │\n",
       "│     │ \u001b[90mString\u001b[39m     │ \u001b[90mDate\u001b[39m       │ \u001b[90mInt64⍰\u001b[39m   │ \u001b[90mString⍰\u001b[39m │\n",
       "├─────┼────────────┼────────────┼──────────┼─────────┤\n",
       "│ 1   │ 0642-01D   │ 2013-05-01 │ 0        │ \u001b[90mmissing\u001b[39m │\n",
       "│ 2   │ 0642-01D   │ 2013-05-02 │ 0        │ \u001b[90mmissing\u001b[39m │\n",
       "│ 3   │ 0642-01D   │ 2013-05-03 │ 0        │ \u001b[90mmissing\u001b[39m │\n",
       "│ 4   │ 0642-01D   │ 2013-05-04 │ 0        │ \u001b[90mmissing\u001b[39m │\n",
       "│ 5   │ 0642-01D   │ 2013-05-05 │ 0        │ \u001b[90mmissing\u001b[39m │"
      ]
     },
     "execution_count": 5,
     "metadata": {},
     "output_type": "execute_result"
    }
   ],
   "source": [
    "data_surverse = filter(row -> month(row.DATE) > 4, data_surverse) \n",
    "data_surverse = filter(row -> month(row.DATE) < 11, data_surverse) \n",
    "first(data_surverse,5)"
   ]
  },
  {
   "cell_type": "code",
   "execution_count": 6,
   "metadata": {},
   "outputs": [
    {
     "data": {
      "text/html": [
       "<table class=\"data-frame\"><thead><tr><th></th><th>NO_OUVRAGE</th><th>DATE</th><th>SURVERSE</th><th>RAISON</th></tr><tr><th></th><th>String</th><th>Date</th><th>Int64⍰</th><th>String</th></tr></thead><tbody><p>5 rows × 4 columns</p><tr><th>1</th><td>0642-01D</td><td>2013-05-01</td><td>0</td><td>Inconnue</td></tr><tr><th>2</th><td>0642-01D</td><td>2013-05-02</td><td>0</td><td>Inconnue</td></tr><tr><th>3</th><td>0642-01D</td><td>2013-05-03</td><td>0</td><td>Inconnue</td></tr><tr><th>4</th><td>0642-01D</td><td>2013-05-04</td><td>0</td><td>Inconnue</td></tr><tr><th>5</th><td>0642-01D</td><td>2013-05-05</td><td>0</td><td>Inconnue</td></tr></tbody></table>"
      ],
      "text/latex": [
       "\\begin{tabular}{r|cccc}\n",
       "\t& NO\\_OUVRAGE & DATE & SURVERSE & RAISON\\\\\n",
       "\t\\hline\n",
       "\t& String & Date & Int64⍰ & String\\\\\n",
       "\t\\hline\n",
       "\t1 & 0642-01D & 2013-05-01 & 0 & Inconnue \\\\\n",
       "\t2 & 0642-01D & 2013-05-02 & 0 & Inconnue \\\\\n",
       "\t3 & 0642-01D & 2013-05-03 & 0 & Inconnue \\\\\n",
       "\t4 & 0642-01D & 2013-05-04 & 0 & Inconnue \\\\\n",
       "\t5 & 0642-01D & 2013-05-05 & 0 & Inconnue \\\\\n",
       "\\end{tabular}\n"
      ],
      "text/plain": [
       "5×4 DataFrame\n",
       "│ Row │ NO_OUVRAGE │ DATE       │ SURVERSE │ RAISON   │\n",
       "│     │ \u001b[90mString\u001b[39m     │ \u001b[90mDate\u001b[39m       │ \u001b[90mInt64⍰\u001b[39m   │ \u001b[90mString\u001b[39m   │\n",
       "├─────┼────────────┼────────────┼──────────┼──────────┤\n",
       "│ 1   │ 0642-01D   │ 2013-05-01 │ 0        │ Inconnue │\n",
       "│ 2   │ 0642-01D   │ 2013-05-02 │ 0        │ Inconnue │\n",
       "│ 3   │ 0642-01D   │ 2013-05-03 │ 0        │ Inconnue │\n",
       "│ 4   │ 0642-01D   │ 2013-05-04 │ 0        │ Inconnue │\n",
       "│ 5   │ 0642-01D   │ 2013-05-05 │ 0        │ Inconnue │"
      ]
     },
     "execution_count": 6,
     "metadata": {},
     "output_type": "execute_result"
    }
   ],
   "source": [
    "raison = coalesce.(data_surverse[:,:RAISON],\"Inconnue\")\n",
    "data_surverse[!,:RAISON] = raison\n",
    "first(data_surverse,5)"
   ]
  },
  {
   "cell_type": "code",
   "execution_count": 7,
   "metadata": {},
   "outputs": [
    {
     "data": {
      "text/html": [
       "<table class=\"data-frame\"><thead><tr><th></th><th>NO_OUVRAGE</th><th>DATE</th><th>SURVERSE</th></tr><tr><th></th><th>String</th><th>Date</th><th>Int64⍰</th></tr></thead><tbody><p>5 rows × 3 columns</p><tr><th>1</th><td>0642-01D</td><td>2013-05-01</td><td>0</td></tr><tr><th>2</th><td>0642-01D</td><td>2013-05-02</td><td>0</td></tr><tr><th>3</th><td>0642-01D</td><td>2013-05-03</td><td>0</td></tr><tr><th>4</th><td>0642-01D</td><td>2013-05-04</td><td>0</td></tr><tr><th>5</th><td>0642-01D</td><td>2013-05-05</td><td>0</td></tr></tbody></table>"
      ],
      "text/latex": [
       "\\begin{tabular}{r|ccc}\n",
       "\t& NO\\_OUVRAGE & DATE & SURVERSE\\\\\n",
       "\t\\hline\n",
       "\t& String & Date & Int64⍰\\\\\n",
       "\t\\hline\n",
       "\t1 & 0642-01D & 2013-05-01 & 0 \\\\\n",
       "\t2 & 0642-01D & 2013-05-02 & 0 \\\\\n",
       "\t3 & 0642-01D & 2013-05-03 & 0 \\\\\n",
       "\t4 & 0642-01D & 2013-05-04 & 0 \\\\\n",
       "\t5 & 0642-01D & 2013-05-05 & 0 \\\\\n",
       "\\end{tabular}\n"
      ],
      "text/plain": [
       "5×3 DataFrame\n",
       "│ Row │ NO_OUVRAGE │ DATE       │ SURVERSE │\n",
       "│     │ \u001b[90mString\u001b[39m     │ \u001b[90mDate\u001b[39m       │ \u001b[90mInt64⍰\u001b[39m   │\n",
       "├─────┼────────────┼────────────┼──────────┤\n",
       "│ 1   │ 0642-01D   │ 2013-05-01 │ 0        │\n",
       "│ 2   │ 0642-01D   │ 2013-05-02 │ 0        │\n",
       "│ 3   │ 0642-01D   │ 2013-05-03 │ 0        │\n",
       "│ 4   │ 0642-01D   │ 2013-05-04 │ 0        │\n",
       "│ 5   │ 0642-01D   │ 2013-05-05 │ 0        │"
      ]
     },
     "execution_count": 7,
     "metadata": {},
     "output_type": "execute_result"
    }
   ],
   "source": [
    "data_surverse = filter(row -> row.RAISON ∈ [\"P\",\"Inconnue\",\"TS\"], data_surverse) \n",
    "select!(data_surverse, [:NO_OUVRAGE, :DATE, :SURVERSE])\n",
    "first(data_surverse,5)"
   ]
  },
  {
   "cell_type": "code",
   "execution_count": 8,
   "metadata": {},
   "outputs": [
    {
     "data": {
      "text/html": [
       "<table class=\"data-frame\"><thead><tr><th></th><th>NO_OUVRAGE</th><th>DATE</th><th>SURVERSE</th></tr><tr><th></th><th>String</th><th>Date</th><th>Int64</th></tr></thead><tbody><p>5 rows × 3 columns</p><tr><th>1</th><td>0642-01D</td><td>2013-05-01</td><td>0</td></tr><tr><th>2</th><td>0642-01D</td><td>2013-05-02</td><td>0</td></tr><tr><th>3</th><td>0642-01D</td><td>2013-05-03</td><td>0</td></tr><tr><th>4</th><td>0642-01D</td><td>2013-05-04</td><td>0</td></tr><tr><th>5</th><td>0642-01D</td><td>2013-05-05</td><td>0</td></tr></tbody></table>"
      ],
      "text/latex": [
       "\\begin{tabular}{r|ccc}\n",
       "\t& NO\\_OUVRAGE & DATE & SURVERSE\\\\\n",
       "\t\\hline\n",
       "\t& String & Date & Int64\\\\\n",
       "\t\\hline\n",
       "\t1 & 0642-01D & 2013-05-01 & 0 \\\\\n",
       "\t2 & 0642-01D & 2013-05-02 & 0 \\\\\n",
       "\t3 & 0642-01D & 2013-05-03 & 0 \\\\\n",
       "\t4 & 0642-01D & 2013-05-04 & 0 \\\\\n",
       "\t5 & 0642-01D & 2013-05-05 & 0 \\\\\n",
       "\\end{tabular}\n"
      ],
      "text/plain": [
       "5×3 DataFrame\n",
       "│ Row │ NO_OUVRAGE │ DATE       │ SURVERSE │\n",
       "│     │ \u001b[90mString\u001b[39m     │ \u001b[90mDate\u001b[39m       │ \u001b[90mInt64\u001b[39m    │\n",
       "├─────┼────────────┼────────────┼──────────┤\n",
       "│ 1   │ 0642-01D   │ 2013-05-01 │ 0        │\n",
       "│ 2   │ 0642-01D   │ 2013-05-02 │ 0        │\n",
       "│ 3   │ 0642-01D   │ 2013-05-03 │ 0        │\n",
       "│ 4   │ 0642-01D   │ 2013-05-04 │ 0        │\n",
       "│ 5   │ 0642-01D   │ 2013-05-05 │ 0        │"
      ]
     },
     "execution_count": 8,
     "metadata": {},
     "output_type": "execute_result"
    }
   ],
   "source": [
    "surverse_df = dropmissing(data_surverse, disallowmissing=true)\n",
    "first(surverse_df,5)"
   ]
  },
  {
   "cell_type": "code",
   "execution_count": 9,
   "metadata": {},
   "outputs": [
    {
     "data": {
      "text/html": [
       "<table class=\"data-frame\"><thead><tr><th></th><th>date</th><th>heure</th><th>McTavish</th><th>Bellevue</th><th>Assomption</th><th>Trudeau</th><th>StHubert</th></tr><tr><th></th><th>Date</th><th>Int64</th><th>Int64⍰</th><th>Int64⍰</th><th>Int64⍰</th><th>Int64⍰</th><th>Int64⍰</th></tr></thead><tbody><p>5 rows × 7 columns</p><tr><th>1</th><td>2013-01-01</td><td>0</td><td>0</td><td>0</td><td>0</td><td>0</td><td>missing</td></tr><tr><th>2</th><td>2013-01-01</td><td>1</td><td>0</td><td>0</td><td>0</td><td>0</td><td>missing</td></tr><tr><th>3</th><td>2013-01-01</td><td>2</td><td>0</td><td>0</td><td>0</td><td>0</td><td>missing</td></tr><tr><th>4</th><td>2013-01-01</td><td>3</td><td>0</td><td>0</td><td>0</td><td>0</td><td>missing</td></tr><tr><th>5</th><td>2013-01-01</td><td>4</td><td>0</td><td>0</td><td>0</td><td>0</td><td>missing</td></tr></tbody></table>"
      ],
      "text/latex": [
       "\\begin{tabular}{r|ccccccc}\n",
       "\t& date & heure & McTavish & Bellevue & Assomption & Trudeau & StHubert\\\\\n",
       "\t\\hline\n",
       "\t& Date & Int64 & Int64⍰ & Int64⍰ & Int64⍰ & Int64⍰ & Int64⍰\\\\\n",
       "\t\\hline\n",
       "\t1 & 2013-01-01 & 0 & 0 & 0 & 0 & 0 &  \\\\\n",
       "\t2 & 2013-01-01 & 1 & 0 & 0 & 0 & 0 &  \\\\\n",
       "\t3 & 2013-01-01 & 2 & 0 & 0 & 0 & 0 &  \\\\\n",
       "\t4 & 2013-01-01 & 3 & 0 & 0 & 0 & 0 &  \\\\\n",
       "\t5 & 2013-01-01 & 4 & 0 & 0 & 0 & 0 &  \\\\\n",
       "\\end{tabular}\n"
      ],
      "text/plain": [
       "5×7 DataFrame. Omitted printing of 1 columns\n",
       "│ Row │ date       │ heure │ McTavish │ Bellevue │ Assomption │ Trudeau │\n",
       "│     │ \u001b[90mDate\u001b[39m       │ \u001b[90mInt64\u001b[39m │ \u001b[90mInt64⍰\u001b[39m   │ \u001b[90mInt64⍰\u001b[39m   │ \u001b[90mInt64⍰\u001b[39m     │ \u001b[90mInt64⍰\u001b[39m  │\n",
       "├─────┼────────────┼───────┼──────────┼──────────┼────────────┼─────────┤\n",
       "│ 1   │ 2013-01-01 │ 0     │ 0        │ 0        │ 0          │ 0       │\n",
       "│ 2   │ 2013-01-01 │ 1     │ 0        │ 0        │ 0          │ 0       │\n",
       "│ 3   │ 2013-01-01 │ 2     │ 0        │ 0        │ 0          │ 0       │\n",
       "│ 4   │ 2013-01-01 │ 3     │ 0        │ 0        │ 0          │ 0       │\n",
       "│ 5   │ 2013-01-01 │ 4     │ 0        │ 0        │ 0          │ 0       │"
      ]
     },
     "execution_count": 9,
     "metadata": {},
     "output_type": "execute_result"
    }
   ],
   "source": [
    "data_precipitations = CSV.read(\"data/precipitations.csv\",missingstring=\"-99999\")\n",
    "rename!(data_precipitations, Symbol(\"St-Hubert\")=>:StHubert)\n",
    "first(data_precipitations,5)"
   ]
  },
  {
   "cell_type": "code",
   "execution_count": 10,
   "metadata": {},
   "outputs": [
    {
     "data": {
      "text/html": [
       "<table class=\"data-frame\"><thead><tr><th></th><th>date</th><th>heure</th><th>McTavish</th><th>Bellevue</th><th>Assomption</th><th>Trudeau</th><th>StHubert</th></tr><tr><th></th><th>Date</th><th>Int64</th><th>Int64⍰</th><th>Int64⍰</th><th>Int64⍰</th><th>Int64⍰</th><th>Int64⍰</th></tr></thead><tbody><p>5 rows × 7 columns</p><tr><th>1</th><td>2013-05-01</td><td>0</td><td>0</td><td>0</td><td>0</td><td>0</td><td>0</td></tr><tr><th>2</th><td>2013-05-01</td><td>1</td><td>0</td><td>0</td><td>0</td><td>0</td><td>0</td></tr><tr><th>3</th><td>2013-05-01</td><td>2</td><td>0</td><td>0</td><td>0</td><td>0</td><td>0</td></tr><tr><th>4</th><td>2013-05-01</td><td>3</td><td>0</td><td>0</td><td>0</td><td>0</td><td>0</td></tr><tr><th>5</th><td>2013-05-01</td><td>4</td><td>0</td><td>0</td><td>0</td><td>0</td><td>0</td></tr></tbody></table>"
      ],
      "text/latex": [
       "\\begin{tabular}{r|ccccccc}\n",
       "\t& date & heure & McTavish & Bellevue & Assomption & Trudeau & StHubert\\\\\n",
       "\t\\hline\n",
       "\t& Date & Int64 & Int64⍰ & Int64⍰ & Int64⍰ & Int64⍰ & Int64⍰\\\\\n",
       "\t\\hline\n",
       "\t1 & 2013-05-01 & 0 & 0 & 0 & 0 & 0 & 0 \\\\\n",
       "\t2 & 2013-05-01 & 1 & 0 & 0 & 0 & 0 & 0 \\\\\n",
       "\t3 & 2013-05-01 & 2 & 0 & 0 & 0 & 0 & 0 \\\\\n",
       "\t4 & 2013-05-01 & 3 & 0 & 0 & 0 & 0 & 0 \\\\\n",
       "\t5 & 2013-05-01 & 4 & 0 & 0 & 0 & 0 & 0 \\\\\n",
       "\\end{tabular}\n"
      ],
      "text/plain": [
       "5×7 DataFrame. Omitted printing of 1 columns\n",
       "│ Row │ date       │ heure │ McTavish │ Bellevue │ Assomption │ Trudeau │\n",
       "│     │ \u001b[90mDate\u001b[39m       │ \u001b[90mInt64\u001b[39m │ \u001b[90mInt64⍰\u001b[39m   │ \u001b[90mInt64⍰\u001b[39m   │ \u001b[90mInt64⍰\u001b[39m     │ \u001b[90mInt64⍰\u001b[39m  │\n",
       "├─────┼────────────┼───────┼──────────┼──────────┼────────────┼─────────┤\n",
       "│ 1   │ 2013-05-01 │ 0     │ 0        │ 0        │ 0          │ 0       │\n",
       "│ 2   │ 2013-05-01 │ 1     │ 0        │ 0        │ 0          │ 0       │\n",
       "│ 3   │ 2013-05-01 │ 2     │ 0        │ 0        │ 0          │ 0       │\n",
       "│ 4   │ 2013-05-01 │ 3     │ 0        │ 0        │ 0          │ 0       │\n",
       "│ 5   │ 2013-05-01 │ 4     │ 0        │ 0        │ 0          │ 0       │"
      ]
     },
     "execution_count": 10,
     "metadata": {},
     "output_type": "execute_result"
    }
   ],
   "source": [
    "data_precipitations = filter(row -> month(row.date) > 4, data_precipitations) \n",
    "data_precipitations = filter(row -> month(row.date) < 11, data_precipitations) \n",
    "rowMean(data_precipitations, 5, 2)\n",
    "first(data_precipitations,5)"
   ]
  },
  {
   "cell_type": "code",
   "execution_count": 11,
   "metadata": {},
   "outputs": [
    {
     "name": "stderr",
     "output_type": "stream",
     "text": [
      "┌ Warning: `getindex(df::DataFrame, col_ind::ColumnIndex)` is deprecated, use `df[!, col_ind]` instead.\n",
      "│   caller = top-level scope at In[11]:13\n",
      "└ @ Core In[11]:13\n",
      "┌ Warning: `getindex(df::DataFrame, col_ind::ColumnIndex)` is deprecated, use `df[!, col_ind]` instead.\n",
      "│   caller = top-level scope at In[11]:15\n",
      "└ @ Core In[11]:15\n"
     ]
    },
    {
     "data": {
      "text/html": [
       "<table class=\"data-frame\"><thead><tr><th></th><th>NO_OUVRAGE</th><th>Trop-Plein X</th><th>Trop-Plein Y</th><th>Trop-Plein Z</th></tr><tr><th></th><th>String</th><th>Float64</th><th>Float64</th><th>Float64⍰</th></tr></thead><tbody><p>5 rows × 4 columns</p><tr><th>1</th><td>3260-01D</td><td>2.98543e5</td><td>5.05676e6</td><td>20.17</td></tr><tr><th>2</th><td>3350-07D</td><td>2.89801e5</td><td>5.04516e6</td><td>20.75</td></tr><tr><th>3</th><td>4240-01D</td><td>3.05755e5</td><td>5.05665e6</td><td>11.91</td></tr><tr><th>4</th><td>4350-01D</td><td>3.00503e5</td><td>5.03991e6</td><td>17.61</td></tr><tr><th>5</th><td>4380-01D</td><td>2.9982e5</td><td>5.03643e6</td><td>17.61</td></tr></tbody></table>"
      ],
      "text/latex": [
       "\\begin{tabular}{r|cccc}\n",
       "\t& NO\\_OUVRAGE & Trop-Plein X & Trop-Plein Y & Trop-Plein Z\\\\\n",
       "\t\\hline\n",
       "\t& String & Float64 & Float64 & Float64⍰\\\\\n",
       "\t\\hline\n",
       "\t1 & 3260-01D & 2.98543e5 & 5.05676e6 & 20.17 \\\\\n",
       "\t2 & 3350-07D & 2.89801e5 & 5.04516e6 & 20.75 \\\\\n",
       "\t3 & 4240-01D & 3.05755e5 & 5.05665e6 & 11.91 \\\\\n",
       "\t4 & 4350-01D & 3.00503e5 & 5.03991e6 & 17.61 \\\\\n",
       "\t5 & 4380-01D & 2.9982e5 & 5.03643e6 & 17.61 \\\\\n",
       "\\end{tabular}\n"
      ],
      "text/plain": [
       "5×4 DataFrame\n",
       "│ Row │ NO_OUVRAGE │ Trop-Plein X │ Trop-Plein Y │ Trop-Plein Z │\n",
       "│     │ \u001b[90mString\u001b[39m     │ \u001b[90mFloat64\u001b[39m      │ \u001b[90mFloat64\u001b[39m      │ \u001b[90mFloat64⍰\u001b[39m     │\n",
       "├─────┼────────────┼──────────────┼──────────────┼──────────────┤\n",
       "│ 1   │ 3260-01D   │ 2.98543e5    │ 5.05676e6    │ 20.17        │\n",
       "│ 2   │ 3350-07D   │ 2.89801e5    │ 5.04516e6    │ 20.75        │\n",
       "│ 3   │ 4240-01D   │ 3.05755e5    │ 5.05665e6    │ 11.91        │\n",
       "│ 4   │ 4350-01D   │ 3.00503e5    │ 5.03991e6    │ 17.61        │\n",
       "│ 5   │ 4380-01D   │ 2.9982e5     │ 5.03643e6    │ 17.61        │"
      ]
     },
     "execution_count": 11,
     "metadata": {},
     "output_type": "execute_result"
    }
   ],
   "source": [
    "data_ouvrage = CSV.read(\"data/ouvrages-surverses.csv\",missingstring=\"\")\n",
    "\n",
    "# Extract speficic ouvrage\n",
    "df_ouvrage = filter(row ->\n",
    "    row.ID_ouvrage == \"3260-01D\" ||\n",
    "    row.ID_ouvrage == \"3350-07D\" ||\n",
    "    row.ID_ouvrage == \"4240-01D\" ||\n",
    "    row.ID_ouvrage == \"4350-01D\" ||\n",
    "    row.ID_ouvrage == \"4380-01D\", data_ouvrage)\n",
    "\n",
    "df_ouvrage = df_ouvrage[:,[:ID_ouvrage, Symbol(\"Trop-Plein X\"), Symbol(\"Trop-Plein Y\"), Symbol(\"Trop-Plein Z\")]]\n",
    "rename!(df_ouvrage, Symbol(\"ID_ouvrage\")=>:NO_OUVRAGE)\n",
    "\n",
    "meanHeight = mean(skipmissing(df_ouvrage[Symbol(\"Trop-Plein Z\")]))\n",
    "\n",
    "# Replace missing height with it's mean\n",
    "df_ouvrage[ismissing.(df_ouvrage[Symbol(\"Trop-Plein Z\")]), Symbol(\"Trop-Plein Z\")] .= meanHeight\n",
    "\n",
    "df_ouvrage"
   ]
  },
  {
   "cell_type": "code",
   "execution_count": 14,
   "metadata": {},
   "outputs": [
    {
     "data": {
      "text/plain": [
       "Ensemble of Decision Trees\n",
       "Trees:      10\n",
       "Avg Leaves: 93.6\n",
       "Avg Depth:  12.2"
      ]
     },
     "execution_count": 14,
     "metadata": {},
     "output_type": "execute_result"
    }
   ],
   "source": [
    "# Analyse exploratoire\n",
    "\n",
    "# Faire la somme des precipitations par rapport a la date\n",
    "pcp_sum = by(data_precipitations, :date,  McTavish = :McTavish=>sum, Bellevue = :Bellevue=>sum, \n",
    "           Assomption = :Assomption=>sum, Trudeau = :Trudeau=>sum, StHubert = :StHubert=>sum)\n",
    "\n",
    "pcp_max = by(data_precipitations, :date,  McTavish = :McTavish=>maximum, Bellevue = :Bellevue=>maximum, \n",
    "   Assomption = :Assomption=>maximum, Trudeau = :Trudeau=>maximum, StHubert = :StHubert=>maximum)\n",
    "\n",
    "df_surve = filter(row ->\n",
    "    row.NO_OUVRAGE == \"3260-01D\" ||\n",
    "    row.NO_OUVRAGE == \"3350-07D\" ||\n",
    "    row.NO_OUVRAGE == \"4240-01D\" ||\n",
    "    row.NO_OUVRAGE == \"4350-01D\" ||\n",
    "    row.NO_OUVRAGE == \"4380-01D\", surverse_df)\n",
    "\n",
    "rename!(df_surve, Symbol(\"DATE\")=>:date)\n",
    "rename!(pcp_max,\n",
    "    Symbol(\"McTavish\")=>:McTavishMax,\n",
    "    Symbol(\"Bellevue\")=>:BellevueMax,\n",
    "    Symbol(\"Assomption\")=>:AssomptionMax,\n",
    "    Symbol(\"Trudeau\")=>:TrudeauMax,\n",
    "    Symbol(\"StHubert\")=>:StHubertMax)\n",
    "\n",
    "enhanced_surve = join(df_surve, pcp_sum, on=:date, kind=:inner)\n",
    "enhanced_surve = join(enhanced_surve, pcp_max, on=:date, kind=:inner)\n",
    "enhanced_surve = join(enhanced_surve, df_ouvrage, on=:NO_OUVRAGE, kind=:left)\n",
    "\n",
    "# enhanced_train_data, enhanced_test_data = partitionTrainTest(enhanced_surve, 0.7)\n",
    "\n",
    "train_data = convert(Matrix, enhanced_surve[:,\n",
    "           [:McTavish,\n",
    "            :Bellevue,\n",
    "            :Assomption,\n",
    "            :Trudeau,\n",
    "            :StHubert,\n",
    "            :McTavishMax,          \n",
    "            :BellevueMax,          \n",
    "            :AssomptionMax,        \n",
    "            :TrudeauMax,           \n",
    "            :StHubertMax,   \n",
    "            Symbol(\"Trop-Plein X\"),\n",
    "            Symbol(\"Trop-Plein Y\"),\n",
    "            Symbol(\"Trop-Plein Z\")]])\n",
    "names(enhanced_surve)\n",
    "train_result = convert(Array{Float64}, enhanced_surve[:,:SURVERSE])\n",
    "\n",
    "model = build_forest(train_result, train_data)"
   ]
  },
  {
   "cell_type": "code",
   "execution_count": 13,
   "metadata": {
    "scrolled": true
   },
   "outputs": [],
   "source": [
    "# Test accuracy (Il faut trouver une meilleur maniere pour faire le cross validation)\n",
    "# Cette maniere n'a pas l'air legit\n",
    "# test_data = convert(Matrix, enhanced_test_data[:,[:McTavish, :Bellevue, :Assomption, :Trudeau, :StHubert]])\n",
    "# test_result = convert(Array{Float64}, enhanced_test_data[:,:SURVERSE])\n",
    "# accuracy = nfoldCV_forest(test_result, test_data, 10, 2)"
   ]
  },
  {
   "cell_type": "code",
   "execution_count": 15,
   "metadata": {
    "scrolled": true
   },
   "outputs": [
    {
     "data": {
      "text/plain": [
       "283-element Array{Int64,1}:\n",
       " 0\n",
       " 0\n",
       " 1\n",
       " 0\n",
       " 0\n",
       " 1\n",
       " 0\n",
       " 0\n",
       " 0\n",
       " 1\n",
       " 0\n",
       " 0\n",
       " 1\n",
       " ⋮\n",
       " 0\n",
       " 1\n",
       " 1\n",
       " 0\n",
       " 0\n",
       " 0\n",
       " 0\n",
       " 0\n",
       " 0\n",
       " 0\n",
       " 0\n",
       " 0"
      ]
     },
     "execution_count": 15,
     "metadata": {},
     "output_type": "execute_result"
    }
   ],
   "source": [
    "### Retrieve test data\n",
    "test = CSV.read(\"data/test.csv\");\n",
    "\n",
    "test_df_surve = filter(row ->\n",
    "    row.NO_OUVRAGE == \"3260-01D\" ||\n",
    "    row.NO_OUVRAGE == \"3350-07D\" ||\n",
    "    row.NO_OUVRAGE == \"4240-01D\" ||\n",
    "    row.NO_OUVRAGE == \"4350-01D\" ||\n",
    "    row.NO_OUVRAGE == \"4380-01D\", test)\n",
    "\n",
    "rename!(test_df_surve, Symbol(\"DATE\")=>:date) \n",
    "\n",
    "test_df_serve = join(test_df_surve, pcp_sum, on=:date, kind=:inner)\n",
    "test_df_serve = join(test_df_serve, pcp_max, on=:date, kind=:inner)\n",
    "test_df_serve = join(test_df_serve, df_ouvrage, on=:NO_OUVRAGE, kind=:left)\n",
    "\n",
    "test_data = convert(Matrix, test_df_serve[:,\n",
    "        [:McTavish,\n",
    "            :Bellevue,\n",
    "            :Assomption,\n",
    "            :Trudeau,\n",
    "            :StHubert,\n",
    "            :McTavishMax,          \n",
    "            :BellevueMax,          \n",
    "            :AssomptionMax,        \n",
    "            :TrudeauMax,           \n",
    "            :StHubertMax,   \n",
    "            Symbol(\"Trop-Plein X\"),\n",
    "            Symbol(\"Trop-Plein Y\"),\n",
    "            Symbol(\"Trop-Plein Z\")]])\n",
    "\n",
    "n = size(test_df_serve, 1)\n",
    "result = Array{Float64}(undef, n)\n",
    "\n",
    "for i = 1:n\n",
    "    result[i] = apply_forest(model, test_data[i, :])\n",
    "end\n",
    "\n",
    "Y = zeros(Int64, n)\n",
    "Y[result.>.5] .= 1\n",
    "Y"
   ]
  },
  {
   "cell_type": "code",
   "execution_count": 21,
   "metadata": {
    "scrolled": true
   },
   "outputs": [
    {
     "data": {
      "text/plain": [
       "0.02412280701754386"
      ]
     },
     "execution_count": 21,
     "metadata": {},
     "output_type": "execute_result"
    }
   ],
   "source": [
    "# RSME - SKlearn\n",
    "\n",
    "rsme_data_test = convert(Matrix, enhanced_surve[:,\n",
    "        [:McTavish,\n",
    "        :Bellevue,\n",
    "        :Assomption,\n",
    "        :Trudeau,\n",
    "        :StHubert,\n",
    "        :McTavishMax,          \n",
    "        :BellevueMax,          \n",
    "        :AssomptionMax,        \n",
    "        :TrudeauMax,           \n",
    "        :StHubertMax,   \n",
    "        Symbol(\"Trop-Plein X\"),\n",
    "        Symbol(\"Trop-Plein Y\"),\n",
    "        Symbol(\"Trop-Plein Z\")]])\n",
    "\n",
    "rsme_data_result = convert(Array{Float64}, enhanced_surve[:,:SURVERSE])\n",
    "\n",
    "n = size(enhanced_surve, 1)\n",
    "result = Array{Float64}(undef, n)\n",
    "\n",
    "for i = 1:n\n",
    "    result[i] = apply_forest(model, rsme_data_test[i, :])\n",
    "end\n",
    "\n",
    "Y = zeros(Int64, n)\n",
    "Y[result.>.5] .= 1\n",
    "Y\n",
    "rsme = mean_squared_error(rsme_data_result, Y)"
   ]
  },
  {
   "cell_type": "code",
   "execution_count": 136,
   "metadata": {},
   "outputs": [
    {
     "data": {
      "text/plain": [
       "\"sampleSubmissionTest.csv\""
      ]
     },
     "execution_count": 136,
     "metadata": {},
     "output_type": "execute_result"
    }
   ],
   "source": [
    "ID = Array{String}(undef, n)\n",
    "for i = 1:n\n",
    "    ID[i] = string(test[i,:NO_OUVRAGE], \"_\", Dates.format(test[i,:DATE], \"yyyy-mm-dd\"))\n",
    "end\n",
    "YTotalBool = Array{String}(undef, n)\n",
    "\n",
    "for i = 1:n\n",
    "    if Y[i] == 0\n",
    "        YTotalBool[i] = \"FALSE\"\n",
    "    else\n",
    "        YTotalBool[i] = \"TRUE\"\n",
    "    end\n",
    "end\n",
    "\n",
    "prediction = DataFrame(ID = ID, Surverse = YTotalBool)\n",
    "CSV.write(\"sampleSubmissionTest.csv\",prediction)"
   ]
  },
  {
   "cell_type": "code",
   "execution_count": null,
   "metadata": {},
   "outputs": [],
   "source": []
  },
  {
   "cell_type": "code",
   "execution_count": null,
   "metadata": {},
   "outputs": [],
   "source": []
  }
 ],
 "metadata": {
  "kernelspec": {
   "display_name": "Julia 1.3.0",
   "language": "julia",
   "name": "julia-1.3"
  },
  "language_info": {
   "file_extension": ".jl",
   "mimetype": "application/julia",
   "name": "julia",
   "version": "1.3.0"
  }
 },
 "nbformat": 4,
 "nbformat_minor": 2
}
