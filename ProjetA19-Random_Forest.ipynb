{
 "cells": [
  {
   "cell_type": "code",
   "execution_count": 21,
   "metadata": {},
   "outputs": [
    {
     "data": {
      "text/plain": [
       "partitionTrainTest (generic function with 2 methods)"
      ]
     },
     "execution_count": 21,
     "metadata": {},
     "output_type": "execute_result"
    }
   ],
   "source": [
    "using CSV, DataFrames, Statistics, Dates, Gadfly, GLM, Distributions, LinearAlgebra, DecisionTree\n",
    "include(\"Utils.jl\")"
   ]
  },
  {
   "cell_type": "code",
   "execution_count": 22,
   "metadata": {},
   "outputs": [
    {
     "data": {
      "text/html": [
       "<table class=\"data-frame\"><thead><tr><th></th><th>NO_OUVRAGE</th><th>DATE</th><th>SURVERSE</th><th>RAISON</th></tr><tr><th></th><th>String</th><th>Date</th><th>Int64⍰</th><th>String⍰</th></tr></thead><tbody><p>5 rows × 4 columns</p><tr><th>1</th><td>0642-01D</td><td>2013-05-01</td><td>0</td><td>missing</td></tr><tr><th>2</th><td>0642-01D</td><td>2013-05-02</td><td>0</td><td>missing</td></tr><tr><th>3</th><td>0642-01D</td><td>2013-05-03</td><td>0</td><td>missing</td></tr><tr><th>4</th><td>0642-01D</td><td>2013-05-04</td><td>0</td><td>missing</td></tr><tr><th>5</th><td>0642-01D</td><td>2013-05-05</td><td>0</td><td>missing</td></tr></tbody></table>"
      ],
      "text/latex": [
       "\\begin{tabular}{r|cccc}\n",
       "\t& NO\\_OUVRAGE & DATE & SURVERSE & RAISON\\\\\n",
       "\t\\hline\n",
       "\t& String & Date & Int64⍰ & String⍰\\\\\n",
       "\t\\hline\n",
       "\t1 & 0642-01D & 2013-05-01 & 0 &  \\\\\n",
       "\t2 & 0642-01D & 2013-05-02 & 0 &  \\\\\n",
       "\t3 & 0642-01D & 2013-05-03 & 0 &  \\\\\n",
       "\t4 & 0642-01D & 2013-05-04 & 0 &  \\\\\n",
       "\t5 & 0642-01D & 2013-05-05 & 0 &  \\\\\n",
       "\\end{tabular}\n"
      ],
      "text/plain": [
       "5×4 DataFrame\n",
       "│ Row │ NO_OUVRAGE │ DATE       │ SURVERSE │ RAISON  │\n",
       "│     │ \u001b[90mString\u001b[39m     │ \u001b[90mDate\u001b[39m       │ \u001b[90mInt64⍰\u001b[39m   │ \u001b[90mString⍰\u001b[39m │\n",
       "├─────┼────────────┼────────────┼──────────┼─────────┤\n",
       "│ 1   │ 0642-01D   │ 2013-05-01 │ 0        │ \u001b[90mmissing\u001b[39m │\n",
       "│ 2   │ 0642-01D   │ 2013-05-02 │ 0        │ \u001b[90mmissing\u001b[39m │\n",
       "│ 3   │ 0642-01D   │ 2013-05-03 │ 0        │ \u001b[90mmissing\u001b[39m │\n",
       "│ 4   │ 0642-01D   │ 2013-05-04 │ 0        │ \u001b[90mmissing\u001b[39m │\n",
       "│ 5   │ 0642-01D   │ 2013-05-05 │ 0        │ \u001b[90mmissing\u001b[39m │"
      ]
     },
     "execution_count": 22,
     "metadata": {},
     "output_type": "execute_result"
    }
   ],
   "source": [
    "data_surverse = CSV.read(\"data/surverses.csv\",missingstring=\"-99999\")\n",
    "first(data_surverse,5)"
   ]
  },
  {
   "cell_type": "code",
   "execution_count": 23,
   "metadata": {},
   "outputs": [
    {
     "data": {
      "text/html": [
       "<table class=\"data-frame\"><thead><tr><th></th><th>NO_OUVRAGE</th><th>DATE</th><th>SURVERSE</th><th>RAISON</th></tr><tr><th></th><th>String</th><th>Date</th><th>Int64⍰</th><th>String⍰</th></tr></thead><tbody><p>5 rows × 4 columns</p><tr><th>1</th><td>0642-01D</td><td>2013-05-01</td><td>0</td><td>missing</td></tr><tr><th>2</th><td>0642-01D</td><td>2013-05-02</td><td>0</td><td>missing</td></tr><tr><th>3</th><td>0642-01D</td><td>2013-05-03</td><td>0</td><td>missing</td></tr><tr><th>4</th><td>0642-01D</td><td>2013-05-04</td><td>0</td><td>missing</td></tr><tr><th>5</th><td>0642-01D</td><td>2013-05-05</td><td>0</td><td>missing</td></tr></tbody></table>"
      ],
      "text/latex": [
       "\\begin{tabular}{r|cccc}\n",
       "\t& NO\\_OUVRAGE & DATE & SURVERSE & RAISON\\\\\n",
       "\t\\hline\n",
       "\t& String & Date & Int64⍰ & String⍰\\\\\n",
       "\t\\hline\n",
       "\t1 & 0642-01D & 2013-05-01 & 0 &  \\\\\n",
       "\t2 & 0642-01D & 2013-05-02 & 0 &  \\\\\n",
       "\t3 & 0642-01D & 2013-05-03 & 0 &  \\\\\n",
       "\t4 & 0642-01D & 2013-05-04 & 0 &  \\\\\n",
       "\t5 & 0642-01D & 2013-05-05 & 0 &  \\\\\n",
       "\\end{tabular}\n"
      ],
      "text/plain": [
       "5×4 DataFrame\n",
       "│ Row │ NO_OUVRAGE │ DATE       │ SURVERSE │ RAISON  │\n",
       "│     │ \u001b[90mString\u001b[39m     │ \u001b[90mDate\u001b[39m       │ \u001b[90mInt64⍰\u001b[39m   │ \u001b[90mString⍰\u001b[39m │\n",
       "├─────┼────────────┼────────────┼──────────┼─────────┤\n",
       "│ 1   │ 0642-01D   │ 2013-05-01 │ 0        │ \u001b[90mmissing\u001b[39m │\n",
       "│ 2   │ 0642-01D   │ 2013-05-02 │ 0        │ \u001b[90mmissing\u001b[39m │\n",
       "│ 3   │ 0642-01D   │ 2013-05-03 │ 0        │ \u001b[90mmissing\u001b[39m │\n",
       "│ 4   │ 0642-01D   │ 2013-05-04 │ 0        │ \u001b[90mmissing\u001b[39m │\n",
       "│ 5   │ 0642-01D   │ 2013-05-05 │ 0        │ \u001b[90mmissing\u001b[39m │"
      ]
     },
     "execution_count": 23,
     "metadata": {},
     "output_type": "execute_result"
    }
   ],
   "source": [
    "data_surverse = filter(row -> month(row.DATE) > 4, data_surverse) \n",
    "data_surverse = filter(row -> month(row.DATE) < 11, data_surverse) \n",
    "first(data_surverse,5)"
   ]
  },
  {
   "cell_type": "code",
   "execution_count": 24,
   "metadata": {},
   "outputs": [
    {
     "data": {
      "text/html": [
       "<table class=\"data-frame\"><thead><tr><th></th><th>NO_OUVRAGE</th><th>DATE</th><th>SURVERSE</th><th>RAISON</th></tr><tr><th></th><th>String</th><th>Date</th><th>Int64⍰</th><th>String</th></tr></thead><tbody><p>5 rows × 4 columns</p><tr><th>1</th><td>0642-01D</td><td>2013-05-01</td><td>0</td><td>Inconnue</td></tr><tr><th>2</th><td>0642-01D</td><td>2013-05-02</td><td>0</td><td>Inconnue</td></tr><tr><th>3</th><td>0642-01D</td><td>2013-05-03</td><td>0</td><td>Inconnue</td></tr><tr><th>4</th><td>0642-01D</td><td>2013-05-04</td><td>0</td><td>Inconnue</td></tr><tr><th>5</th><td>0642-01D</td><td>2013-05-05</td><td>0</td><td>Inconnue</td></tr></tbody></table>"
      ],
      "text/latex": [
       "\\begin{tabular}{r|cccc}\n",
       "\t& NO\\_OUVRAGE & DATE & SURVERSE & RAISON\\\\\n",
       "\t\\hline\n",
       "\t& String & Date & Int64⍰ & String\\\\\n",
       "\t\\hline\n",
       "\t1 & 0642-01D & 2013-05-01 & 0 & Inconnue \\\\\n",
       "\t2 & 0642-01D & 2013-05-02 & 0 & Inconnue \\\\\n",
       "\t3 & 0642-01D & 2013-05-03 & 0 & Inconnue \\\\\n",
       "\t4 & 0642-01D & 2013-05-04 & 0 & Inconnue \\\\\n",
       "\t5 & 0642-01D & 2013-05-05 & 0 & Inconnue \\\\\n",
       "\\end{tabular}\n"
      ],
      "text/plain": [
       "5×4 DataFrame\n",
       "│ Row │ NO_OUVRAGE │ DATE       │ SURVERSE │ RAISON   │\n",
       "│     │ \u001b[90mString\u001b[39m     │ \u001b[90mDate\u001b[39m       │ \u001b[90mInt64⍰\u001b[39m   │ \u001b[90mString\u001b[39m   │\n",
       "├─────┼────────────┼────────────┼──────────┼──────────┤\n",
       "│ 1   │ 0642-01D   │ 2013-05-01 │ 0        │ Inconnue │\n",
       "│ 2   │ 0642-01D   │ 2013-05-02 │ 0        │ Inconnue │\n",
       "│ 3   │ 0642-01D   │ 2013-05-03 │ 0        │ Inconnue │\n",
       "│ 4   │ 0642-01D   │ 2013-05-04 │ 0        │ Inconnue │\n",
       "│ 5   │ 0642-01D   │ 2013-05-05 │ 0        │ Inconnue │"
      ]
     },
     "execution_count": 24,
     "metadata": {},
     "output_type": "execute_result"
    }
   ],
   "source": [
    "raison = coalesce.(data_surverse[:,:RAISON],\"Inconnue\")\n",
    "data_surverse[!,:RAISON] = raison\n",
    "first(data_surverse,5)"
   ]
  },
  {
   "cell_type": "code",
   "execution_count": 25,
   "metadata": {},
   "outputs": [
    {
     "data": {
      "text/html": [
       "<table class=\"data-frame\"><thead><tr><th></th><th>NO_OUVRAGE</th><th>DATE</th><th>SURVERSE</th></tr><tr><th></th><th>String</th><th>Date</th><th>Int64⍰</th></tr></thead><tbody><p>5 rows × 3 columns</p><tr><th>1</th><td>0642-01D</td><td>2013-05-01</td><td>0</td></tr><tr><th>2</th><td>0642-01D</td><td>2013-05-02</td><td>0</td></tr><tr><th>3</th><td>0642-01D</td><td>2013-05-03</td><td>0</td></tr><tr><th>4</th><td>0642-01D</td><td>2013-05-04</td><td>0</td></tr><tr><th>5</th><td>0642-01D</td><td>2013-05-05</td><td>0</td></tr></tbody></table>"
      ],
      "text/latex": [
       "\\begin{tabular}{r|ccc}\n",
       "\t& NO\\_OUVRAGE & DATE & SURVERSE\\\\\n",
       "\t\\hline\n",
       "\t& String & Date & Int64⍰\\\\\n",
       "\t\\hline\n",
       "\t1 & 0642-01D & 2013-05-01 & 0 \\\\\n",
       "\t2 & 0642-01D & 2013-05-02 & 0 \\\\\n",
       "\t3 & 0642-01D & 2013-05-03 & 0 \\\\\n",
       "\t4 & 0642-01D & 2013-05-04 & 0 \\\\\n",
       "\t5 & 0642-01D & 2013-05-05 & 0 \\\\\n",
       "\\end{tabular}\n"
      ],
      "text/plain": [
       "5×3 DataFrame\n",
       "│ Row │ NO_OUVRAGE │ DATE       │ SURVERSE │\n",
       "│     │ \u001b[90mString\u001b[39m     │ \u001b[90mDate\u001b[39m       │ \u001b[90mInt64⍰\u001b[39m   │\n",
       "├─────┼────────────┼────────────┼──────────┤\n",
       "│ 1   │ 0642-01D   │ 2013-05-01 │ 0        │\n",
       "│ 2   │ 0642-01D   │ 2013-05-02 │ 0        │\n",
       "│ 3   │ 0642-01D   │ 2013-05-03 │ 0        │\n",
       "│ 4   │ 0642-01D   │ 2013-05-04 │ 0        │\n",
       "│ 5   │ 0642-01D   │ 2013-05-05 │ 0        │"
      ]
     },
     "execution_count": 25,
     "metadata": {},
     "output_type": "execute_result"
    }
   ],
   "source": [
    "data_surverse = filter(row -> row.RAISON ∈ [\"P\",\"Inconnue\",\"TS\"], data_surverse) \n",
    "select!(data_surverse, [:NO_OUVRAGE, :DATE, :SURVERSE])\n",
    "first(data_surverse,5)"
   ]
  },
  {
   "cell_type": "code",
   "execution_count": 26,
   "metadata": {},
   "outputs": [
    {
     "data": {
      "text/html": [
       "<table class=\"data-frame\"><thead><tr><th></th><th>NO_OUVRAGE</th><th>DATE</th><th>SURVERSE</th></tr><tr><th></th><th>String</th><th>Date</th><th>Int64</th></tr></thead><tbody><p>5 rows × 3 columns</p><tr><th>1</th><td>0642-01D</td><td>2013-05-01</td><td>0</td></tr><tr><th>2</th><td>0642-01D</td><td>2013-05-02</td><td>0</td></tr><tr><th>3</th><td>0642-01D</td><td>2013-05-03</td><td>0</td></tr><tr><th>4</th><td>0642-01D</td><td>2013-05-04</td><td>0</td></tr><tr><th>5</th><td>0642-01D</td><td>2013-05-05</td><td>0</td></tr></tbody></table>"
      ],
      "text/latex": [
       "\\begin{tabular}{r|ccc}\n",
       "\t& NO\\_OUVRAGE & DATE & SURVERSE\\\\\n",
       "\t\\hline\n",
       "\t& String & Date & Int64\\\\\n",
       "\t\\hline\n",
       "\t1 & 0642-01D & 2013-05-01 & 0 \\\\\n",
       "\t2 & 0642-01D & 2013-05-02 & 0 \\\\\n",
       "\t3 & 0642-01D & 2013-05-03 & 0 \\\\\n",
       "\t4 & 0642-01D & 2013-05-04 & 0 \\\\\n",
       "\t5 & 0642-01D & 2013-05-05 & 0 \\\\\n",
       "\\end{tabular}\n"
      ],
      "text/plain": [
       "5×3 DataFrame\n",
       "│ Row │ NO_OUVRAGE │ DATE       │ SURVERSE │\n",
       "│     │ \u001b[90mString\u001b[39m     │ \u001b[90mDate\u001b[39m       │ \u001b[90mInt64\u001b[39m    │\n",
       "├─────┼────────────┼────────────┼──────────┤\n",
       "│ 1   │ 0642-01D   │ 2013-05-01 │ 0        │\n",
       "│ 2   │ 0642-01D   │ 2013-05-02 │ 0        │\n",
       "│ 3   │ 0642-01D   │ 2013-05-03 │ 0        │\n",
       "│ 4   │ 0642-01D   │ 2013-05-04 │ 0        │\n",
       "│ 5   │ 0642-01D   │ 2013-05-05 │ 0        │"
      ]
     },
     "execution_count": 26,
     "metadata": {},
     "output_type": "execute_result"
    }
   ],
   "source": [
    "surverse_df = dropmissing(data_surverse, disallowmissing=true)\n",
    "first(surverse_df,5)"
   ]
  },
  {
   "cell_type": "code",
   "execution_count": 27,
   "metadata": {},
   "outputs": [
    {
     "data": {
      "text/html": [
       "<table class=\"data-frame\"><thead><tr><th></th><th>date</th><th>heure</th><th>McTavish</th><th>Bellevue</th><th>Assomption</th><th>Trudeau</th><th>StHubert</th></tr><tr><th></th><th>Date</th><th>Int64</th><th>Int64⍰</th><th>Int64⍰</th><th>Int64⍰</th><th>Int64⍰</th><th>Int64⍰</th></tr></thead><tbody><p>5 rows × 7 columns</p><tr><th>1</th><td>2013-01-01</td><td>0</td><td>0</td><td>0</td><td>0</td><td>0</td><td>missing</td></tr><tr><th>2</th><td>2013-01-01</td><td>1</td><td>0</td><td>0</td><td>0</td><td>0</td><td>missing</td></tr><tr><th>3</th><td>2013-01-01</td><td>2</td><td>0</td><td>0</td><td>0</td><td>0</td><td>missing</td></tr><tr><th>4</th><td>2013-01-01</td><td>3</td><td>0</td><td>0</td><td>0</td><td>0</td><td>missing</td></tr><tr><th>5</th><td>2013-01-01</td><td>4</td><td>0</td><td>0</td><td>0</td><td>0</td><td>missing</td></tr></tbody></table>"
      ],
      "text/latex": [
       "\\begin{tabular}{r|ccccccc}\n",
       "\t& date & heure & McTavish & Bellevue & Assomption & Trudeau & StHubert\\\\\n",
       "\t\\hline\n",
       "\t& Date & Int64 & Int64⍰ & Int64⍰ & Int64⍰ & Int64⍰ & Int64⍰\\\\\n",
       "\t\\hline\n",
       "\t1 & 2013-01-01 & 0 & 0 & 0 & 0 & 0 &  \\\\\n",
       "\t2 & 2013-01-01 & 1 & 0 & 0 & 0 & 0 &  \\\\\n",
       "\t3 & 2013-01-01 & 2 & 0 & 0 & 0 & 0 &  \\\\\n",
       "\t4 & 2013-01-01 & 3 & 0 & 0 & 0 & 0 &  \\\\\n",
       "\t5 & 2013-01-01 & 4 & 0 & 0 & 0 & 0 &  \\\\\n",
       "\\end{tabular}\n"
      ],
      "text/plain": [
       "5×7 DataFrame. Omitted printing of 1 columns\n",
       "│ Row │ date       │ heure │ McTavish │ Bellevue │ Assomption │ Trudeau │\n",
       "│     │ \u001b[90mDate\u001b[39m       │ \u001b[90mInt64\u001b[39m │ \u001b[90mInt64⍰\u001b[39m   │ \u001b[90mInt64⍰\u001b[39m   │ \u001b[90mInt64⍰\u001b[39m     │ \u001b[90mInt64⍰\u001b[39m  │\n",
       "├─────┼────────────┼───────┼──────────┼──────────┼────────────┼─────────┤\n",
       "│ 1   │ 2013-01-01 │ 0     │ 0        │ 0        │ 0          │ 0       │\n",
       "│ 2   │ 2013-01-01 │ 1     │ 0        │ 0        │ 0          │ 0       │\n",
       "│ 3   │ 2013-01-01 │ 2     │ 0        │ 0        │ 0          │ 0       │\n",
       "│ 4   │ 2013-01-01 │ 3     │ 0        │ 0        │ 0          │ 0       │\n",
       "│ 5   │ 2013-01-01 │ 4     │ 0        │ 0        │ 0          │ 0       │"
      ]
     },
     "execution_count": 27,
     "metadata": {},
     "output_type": "execute_result"
    }
   ],
   "source": [
    "data_precipitations = CSV.read(\"data/precipitations.csv\",missingstring=\"-99999\")\n",
    "rename!(data_precipitations, Symbol(\"St-Hubert\")=>:StHubert)\n",
    "first(data_precipitations,5)"
   ]
  },
  {
   "cell_type": "code",
   "execution_count": 28,
   "metadata": {},
   "outputs": [
    {
     "data": {
      "text/html": [
       "<table class=\"data-frame\"><thead><tr><th></th><th>date</th><th>heure</th><th>McTavish</th><th>Bellevue</th><th>Assomption</th><th>Trudeau</th><th>StHubert</th></tr><tr><th></th><th>Date</th><th>Int64</th><th>Int64⍰</th><th>Int64⍰</th><th>Int64⍰</th><th>Int64⍰</th><th>Int64⍰</th></tr></thead><tbody><p>5 rows × 7 columns</p><tr><th>1</th><td>2013-05-01</td><td>0</td><td>0</td><td>0</td><td>0</td><td>0</td><td>missing</td></tr><tr><th>2</th><td>2013-05-01</td><td>1</td><td>0</td><td>0</td><td>0</td><td>0</td><td>missing</td></tr><tr><th>3</th><td>2013-05-01</td><td>2</td><td>0</td><td>0</td><td>0</td><td>0</td><td>missing</td></tr><tr><th>4</th><td>2013-05-01</td><td>3</td><td>0</td><td>0</td><td>0</td><td>0</td><td>missing</td></tr><tr><th>5</th><td>2013-05-01</td><td>4</td><td>0</td><td>0</td><td>0</td><td>0</td><td>missing</td></tr></tbody></table>"
      ],
      "text/latex": [
       "\\begin{tabular}{r|ccccccc}\n",
       "\t& date & heure & McTavish & Bellevue & Assomption & Trudeau & StHubert\\\\\n",
       "\t\\hline\n",
       "\t& Date & Int64 & Int64⍰ & Int64⍰ & Int64⍰ & Int64⍰ & Int64⍰\\\\\n",
       "\t\\hline\n",
       "\t1 & 2013-05-01 & 0 & 0 & 0 & 0 & 0 &  \\\\\n",
       "\t2 & 2013-05-01 & 1 & 0 & 0 & 0 & 0 &  \\\\\n",
       "\t3 & 2013-05-01 & 2 & 0 & 0 & 0 & 0 &  \\\\\n",
       "\t4 & 2013-05-01 & 3 & 0 & 0 & 0 & 0 &  \\\\\n",
       "\t5 & 2013-05-01 & 4 & 0 & 0 & 0 & 0 &  \\\\\n",
       "\\end{tabular}\n"
      ],
      "text/plain": [
       "5×7 DataFrame. Omitted printing of 1 columns\n",
       "│ Row │ date       │ heure │ McTavish │ Bellevue │ Assomption │ Trudeau │\n",
       "│     │ \u001b[90mDate\u001b[39m       │ \u001b[90mInt64\u001b[39m │ \u001b[90mInt64⍰\u001b[39m   │ \u001b[90mInt64⍰\u001b[39m   │ \u001b[90mInt64⍰\u001b[39m     │ \u001b[90mInt64⍰\u001b[39m  │\n",
       "├─────┼────────────┼───────┼──────────┼──────────┼────────────┼─────────┤\n",
       "│ 1   │ 2013-05-01 │ 0     │ 0        │ 0        │ 0          │ 0       │\n",
       "│ 2   │ 2013-05-01 │ 1     │ 0        │ 0        │ 0          │ 0       │\n",
       "│ 3   │ 2013-05-01 │ 2     │ 0        │ 0        │ 0          │ 0       │\n",
       "│ 4   │ 2013-05-01 │ 3     │ 0        │ 0        │ 0          │ 0       │\n",
       "│ 5   │ 2013-05-01 │ 4     │ 0        │ 0        │ 0          │ 0       │"
      ]
     },
     "execution_count": 28,
     "metadata": {},
     "output_type": "execute_result"
    }
   ],
   "source": [
    "data_precipitations = filter(row -> month(row.date) > 4, data_precipitations) \n",
    "data_precipitations = filter(row -> month(row.date) < 11, data_precipitations) \n",
    "first(data_precipitations,5)"
   ]
  },
  {
   "cell_type": "code",
   "execution_count": 105,
   "metadata": {},
   "outputs": [
    {
     "data": {
      "text/plain": [
       "Ensemble of Decision Trees\n",
       "Trees:      200\n",
       "Avg Leaves: 66.995\n",
       "Avg Depth:  12.365"
      ]
     },
     "execution_count": 105,
     "metadata": {},
     "output_type": "execute_result"
    }
   ],
   "source": [
    "# Analyse exploratoire\n",
    "\n",
    "# Faire la somme des precipitations par rapport a la date\n",
    "pcp_sum = by(data_precipitations, :date,  McTavish = :McTavish=>sum, Bellevue = :Bellevue=>sum, \n",
    "           Assomption = :Assomption=>sum, Trudeau = :Trudeau=>sum, StHubert = :StHubert=>sum)\n",
    "\n",
    "pcp_max = by(data_precipitations, :date,  McTavish = :McTavish=>maximum, Bellevue = :Bellevue=>maximum, \n",
    "   Assomption = :Assomption=>maximum, Trudeau = :Trudeau=>maximum, StHubert = :StHubert=>maximum)\n",
    "\n",
    "df_surve = filter(row ->\n",
    "    row.NO_OUVRAGE == \"3260-01D\" ||\n",
    "    row.NO_OUVRAGE == \"3350-07D\" ||\n",
    "    row.NO_OUVRAGE == \"4240-01D\" ||\n",
    "    row.NO_OUVRAGE == \"4350-01D\" ||\n",
    "    row.NO_OUVRAGE == \"4380-01D\", surverse_df)\n",
    "\n",
    "rename!(df_surve, Symbol(\"DATE\")=>:date)\n",
    "rename!(pcp_max,\n",
    "    Symbol(\"McTavish\")=>:McTavishMax,\n",
    "    Symbol(\"Bellevue\")=>:BellevueMax,\n",
    "    Symbol(\"Assomption\")=>:AssomptionMax,\n",
    "    Symbol(\"Trudeau\")=>:TrudeauMax,\n",
    "    Symbol(\"StHubert\")=>:StHubertMax)\n",
    "\n",
    "enhanced_surve = join(df_surve, pcp_sum, on=:date, kind=:inner)\n",
    "enhanced_surve = join(enhanced_surve, pcp_max, on=:date, kind=:inner)\n",
    "\n",
    "# Ne fait que pour les columns de sum, il faut ajouter pour max\n",
    "# for i = 1:size(enhanced_surve,1)\n",
    "#     # row average\n",
    "#     # non_missing_avg = sum(skipmissing(dfs_enhanced_surve[i][j,[4,5,6,7]])) / 4\n",
    "#     sum = 0\n",
    "#     for k = 1:5\n",
    "#         if enhanced_surve[i,k + 3] !== missing\n",
    "#             sum = sum + enhanced_surve[i,k + 3]\n",
    "#         end\n",
    "#     end\n",
    "#     for k = 1:5\n",
    "#         # plus 3 pour skip les 3 premieres colones\n",
    "#         if (enhanced_surve[i,k + 3] === missing)\n",
    "#             enhanced_surve[i,k + 3] = floor(sum/5)\n",
    "#         end\n",
    "#     end\n",
    "# end\n",
    "\n",
    "McTavish_Sum_Avg = mean(skipmissing(enhanced_surve[:,:McTavish]))\n",
    "Bellevue_Sum_Avg = mean(skipmissing(enhanced_surve[:,:Bellevue]))\n",
    "Assomption_Sum_Avg = mean(skipmissing(enhanced_surve[:,:Assomption]))\n",
    "Trudeau_Sum_Avg = mean(skipmissing(enhanced_surve[:,:Trudeau]))\n",
    "StHubert_Sum_Avg = mean(skipmissing(enhanced_surve[:,:StHubert]))\n",
    "\n",
    "McTavish_Max_Avg = mean(skipmissing(enhanced_surve[:,:McTavishMax]))\n",
    "Bellevue_Max_Avg = mean(skipmissing(enhanced_surve[:,:BellevueMax]))\n",
    "Assomption_Max_Avg = mean(skipmissing(enhanced_surve[:,:AssomptionMax]))\n",
    "Trudeau_Max_Avg = mean(skipmissing(enhanced_surve[:,:TrudeauMax]))\n",
    "StHubert_Max_Avg = mean(skipmissing(enhanced_surve[:,:StHubertMax]))\n",
    "\n",
    "replacement = [McTavish_Sum_Avg, Bellevue_Sum_Avg, Assomption_Sum_Avg, Trudeau_Sum_Avg, StHubert_Sum_Avg,\n",
    "                McTavish_Max_Avg, Bellevue_Max_Avg, Assomption_Max_Avg, Trudeau_Max_Avg, StHubert_Max_Avg]\n",
    "\n",
    "# Commence a 4 pour les column des precipitations\n",
    "for i = 4:size(enhanced_surve,2)\n",
    "    for j = 1:size(enhanced_surve, 1)\n",
    "        if enhanced_surve[j,i] === missing\n",
    "            enhanced_surve[j,i] = floor(replacement[i - 3])\n",
    "        end\n",
    "    end\n",
    "end\n",
    "\n",
    "enhanced_train_data, enhanced_test_data = partitionTrainTest(enhanced_surve, 0.7)\n",
    "\n",
    "train_data = convert(Matrix, enhanced_train_data[:,[:McTavish, :Bellevue, :Assomption, :Trudeau, :StHubert]])\n",
    "train_result = convert(Array{Float64}, enhanced_train_data[:,:SURVERSE])\n",
    "\n",
    "model = build_forest(train_result, train_data, 2, 200, 0.5, 32)\n"
   ]
  },
  {
   "cell_type": "code",
   "execution_count": 123,
   "metadata": {
    "scrolled": true
   },
   "outputs": [
    {
     "name": "stdout",
     "output_type": "stream",
     "text": [
      "\n",
      "Fold 1\n",
      "Mean Squared Error:     0.0323106744961359\n",
      "Correlation Coeff:      0.8652050860928937\n",
      "Coeff of Determination: 0.7156539175638926\n",
      "\n",
      "Fold 2\n",
      "Mean Squared Error:     0.03184880184992407\n",
      "Correlation Coeff:      0.6939732184430764\n",
      "Coeff of Determination: 0.47863734090568366\n",
      "\n",
      "Fold 3\n",
      "Mean Squared Error:     0.03323058122425925\n",
      "Correlation Coeff:      0.815948647549933\n",
      "Coeff of Determination: 0.663540365104375\n",
      "\n",
      "Fold 4\n",
      "Mean Squared Error:     0.03196257813391316\n",
      "Correlation Coeff:      0.7964778439886842\n",
      "Coeff of Determination: 0.6155128512144021\n",
      "\n",
      "Fold 5\n",
      "Mean Squared Error:     0.025862850090721593\n",
      "Correlation Coeff:      0.8575488887031838\n",
      "Coeff of Determination: 0.723803167074041\n",
      "\n",
      "Fold 6\n",
      "Mean Squared Error:     0.033987235756571144\n",
      "Correlation Coeff:      0.817022096536487\n",
      "Coeff of Determination: 0.6558792379647171\n",
      "\n",
      "Fold 7\n",
      "Mean Squared Error:     0.04878019862593347\n",
      "Correlation Coeff:      0.6923602146311983\n",
      "Coeff of Determination: 0.4790621945098189\n",
      "\n",
      "Fold 8\n",
      "Mean Squared Error:     0.02112609304817633\n",
      "Correlation Coeff:      0.8738329048362571\n",
      "Coeff of Determination: 0.7610914433986667\n",
      "\n",
      "Fold 9\n",
      "Mean Squared Error:     0.03935657835150522\n",
      "Correlation Coeff:      0.6796401647120481\n",
      "Coeff of Determination: 0.455497551636888\n",
      "\n",
      "Fold 10\n",
      "Mean Squared Error:     0.020306968044419414\n",
      "Correlation Coeff:      0.7380697905102575\n",
      "Coeff of Determination: 0.5348671086577161\n",
      "\n",
      "Mean Coeff of Determination: 0.6083545178030201\n"
     ]
    },
    {
     "data": {
      "text/plain": [
       "10-element Array{Float64,1}:\n",
       " 0.7156539175638926 \n",
       " 0.47863734090568366\n",
       " 0.663540365104375  \n",
       " 0.6155128512144021 \n",
       " 0.723803167074041  \n",
       " 0.6558792379647171 \n",
       " 0.4790621945098189 \n",
       " 0.7610914433986667 \n",
       " 0.455497551636888  \n",
       " 0.5348671086577161 "
      ]
     },
     "execution_count": 123,
     "metadata": {},
     "output_type": "execute_result"
    }
   ],
   "source": [
    "# Test accuracy (Il faut trouver une meilleur maniere pour faire le cross validation)\n",
    "# Cette maniere n'a pas l'air legit\n",
    "test_data = convert(Matrix, enhanced_test_data[:,[:McTavish, :Bellevue, :Assomption, :Trudeau, :StHubert]])\n",
    "test_result = convert(Array{Float64}, enhanced_test_data[:,:SURVERSE])\n",
    "accuracy = nfoldCV_forest(test_result, test_data, 10, 2)"
   ]
  },
  {
   "cell_type": "code",
   "execution_count": 120,
   "metadata": {
    "scrolled": true
   },
   "outputs": [
    {
     "data": {
      "text/plain": [
       "283-element Array{Int64,1}:\n",
       " 0\n",
       " 0\n",
       " 1\n",
       " 0\n",
       " 0\n",
       " 1\n",
       " 0\n",
       " 0\n",
       " 0\n",
       " 0\n",
       " 0\n",
       " 0\n",
       " 0\n",
       " ⋮\n",
       " 0\n",
       " 1\n",
       " 1\n",
       " 0\n",
       " 0\n",
       " 0\n",
       " 0\n",
       " 0\n",
       " 0\n",
       " 0\n",
       " 0\n",
       " 0"
      ]
     },
     "execution_count": 120,
     "metadata": {},
     "output_type": "execute_result"
    }
   ],
   "source": [
    "### Retrieve test data\n",
    "test = CSV.read(\"data/test.csv\");\n",
    "\n",
    "test_df_surve = filter(row ->\n",
    "    row.NO_OUVRAGE == \"3260-01D\" ||\n",
    "    row.NO_OUVRAGE == \"3350-07D\" ||\n",
    "    row.NO_OUVRAGE == \"4240-01D\" ||\n",
    "    row.NO_OUVRAGE == \"4350-01D\" ||\n",
    "    row.NO_OUVRAGE == \"4380-01D\", test)\n",
    "\n",
    "rename!(test_df_surve, Symbol(\"DATE\")=>:date) \n",
    "\n",
    "test_df_serve = join(test_df_surve, pcp_sum, on=:date, kind=:inner)\n",
    "test_df_serve = join(test_df_serve, pcp_max, on=:date, kind=:inner)\n",
    "\n",
    "# # Ne fait que pour les columns de sum, il faut ajouter pour max\n",
    "# for i = 1:size(test_df_serve,1)\n",
    "#     # row average\n",
    "#     sum = 0\n",
    "#     for k = 1:5\n",
    "#         if test_df_serve[i,k + 2] !== missing\n",
    "#             sum = sum + test_df_serve[i,k + 2]\n",
    "#         end\n",
    "#     end\n",
    "#     for k = 1:5\n",
    "#         # plus 3 pour skip les 3 premieres colones\n",
    "#         if (test_df_serve[i,k + 2] === missing)\n",
    "#             test_df_serve[i,k + 2] = floor(sum/5)\n",
    "#         end\n",
    "#     end\n",
    "# end\n",
    "\n",
    "McTavish_Sum_Avg = mean(skipmissing(test_df_serve[:,:McTavish]))\n",
    "Bellevue_Sum_Avg = mean(skipmissing(test_df_serve[:,:Bellevue]))\n",
    "Assomption_Sum_Avg = mean(skipmissing(test_df_serve[:,:Assomption]))\n",
    "Trudeau_Sum_Avg = mean(skipmissing(test_df_serve[:,:Trudeau]))\n",
    "StHubert_Sum_Avg = mean(skipmissing(test_df_serve[:,:StHubert]))\n",
    "\n",
    "McTavish_Max_Avg = mean(skipmissing(test_df_serve[:,:McTavishMax]))\n",
    "Bellevue_Max_Avg = mean(skipmissing(test_df_serve[:,:BellevueMax]))\n",
    "Assomption_Max_Avg = mean(skipmissing(test_df_serve[:,:AssomptionMax]))\n",
    "Trudeau_Max_Avg = mean(skipmissing(test_df_serve[:,:TrudeauMax]))\n",
    "StHubert_Max_Avg = mean(skipmissing(test_df_serve[:,:StHubertMax]))\n",
    "\n",
    "replacement = [McTavish_Sum_Avg, Bellevue_Sum_Avg, Assomption_Sum_Avg, Trudeau_Sum_Avg, StHubert_Sum_Avg,\n",
    "                McTavish_Max_Avg, Bellevue_Max_Avg, Assomption_Max_Avg, Trudeau_Max_Avg, StHubert_Max_Avg]\n",
    "\n",
    "# Commence a 3 pour les column des precipitations\n",
    "for i = 3:size(test_df_serve,2)\n",
    "    for j = 1:size(test_df_serve, 1)\n",
    "        if test_df_serve[j,i] === missing\n",
    "            test_df_serve[j,i] = floor(replacement[i - 2])\n",
    "        end\n",
    "    end\n",
    "end\n",
    "\n",
    "test_data = convert(Matrix, test_df_serve[:,[:McTavish, :Bellevue, :Assomption, :Trudeau, :StHubert]])\n",
    "\n",
    "n = size(test_df_serve, 1)\n",
    "result = Array{Float64}(undef, n)\n",
    "\n",
    "for i = 1:n\n",
    "    result[i] = apply_forest(model, test_data[i, :])\n",
    "end\n",
    "\n",
    "Y = zeros(Int64, n)\n",
    "Y[result.>.5] .= 1\n",
    "Y"
   ]
  },
  {
   "cell_type": "code",
   "execution_count": null,
   "metadata": {
    "scrolled": true
   },
   "outputs": [],
   "source": []
  },
  {
   "cell_type": "code",
   "execution_count": 121,
   "metadata": {},
   "outputs": [
    {
     "data": {
      "text/plain": [
       "\"sampleSubmissionTest.csv\""
      ]
     },
     "execution_count": 121,
     "metadata": {},
     "output_type": "execute_result"
    }
   ],
   "source": [
    "ID = Array{String}(undef, n)\n",
    "for i = 1:n\n",
    "    ID[i] = string(test[i,:NO_OUVRAGE], \"_\", Dates.format(test[i,:DATE], \"yyyy-mm-dd\"))\n",
    "end\n",
    "YTotalBool = Array{String}(undef, n)\n",
    "\n",
    "for i = 1:n\n",
    "    if Y[i] == 0\n",
    "        YTotalBool[i] = \"FALSE\"\n",
    "    else\n",
    "        YTotalBool[i] = \"TRUE\"\n",
    "    end\n",
    "end\n",
    "\n",
    "prediction = DataFrame(ID = ID, Surverse = YTotalBool)\n",
    "CSV.write(\"sampleSubmissionTest.csv\",prediction)"
   ]
  },
  {
   "cell_type": "code",
   "execution_count": null,
   "metadata": {},
   "outputs": [],
   "source": []
  },
  {
   "cell_type": "code",
   "execution_count": null,
   "metadata": {},
   "outputs": [],
   "source": []
  }
 ],
 "metadata": {
  "kernelspec": {
   "display_name": "Julia 1.3.0",
   "language": "julia",
   "name": "julia-1.3"
  },
  "language_info": {
   "file_extension": ".jl",
   "mimetype": "application/julia",
   "name": "julia",
   "version": "1.3.0"
  }
 },
 "nbformat": 4,
 "nbformat_minor": 2
}
